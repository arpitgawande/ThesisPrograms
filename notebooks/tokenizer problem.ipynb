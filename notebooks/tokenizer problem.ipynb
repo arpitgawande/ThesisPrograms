{
 "cells": [
  {
   "cell_type": "code",
   "execution_count": 98,
   "metadata": {
    "collapsed": false
   },
   "outputs": [],
   "source": [
    "#long_sentence = 'the beautiful flower from the farmers market'\n",
    "stop_words = [\"is\", \"a\", \"can\", \"the\"]\n",
    "token_stream = [\"The\", \"beautiful\", \"girl\", \"from\", \"the\", \"farmers\", \"market\", \".\", \"I\", \"like\",\n",
    "\"chewing\", \"gum\", \".\"]\n",
    "sugg = []\n",
    "previous = []\n",
    "for i, w in enumerate(token_stream):\n",
    "    #Dont consider stop words and single string words\n",
    "    if w.lower() not in stop_words and len(w) > 1:\n",
    "        sugg.append(w)\n",
    "        if len(previous) ==  0:\n",
    "            previous = [w] #built previous string.\n",
    "        else: \n",
    "            sub = [w]\n",
    "            #built list of substring by reversing the previous string and \n",
    "            # conacting in reverse order buiding one substring after another\n",
    "            for s in reversed(previous): \n",
    "                sub = [s] + sub\n",
    "                sugg.append(sub)\n",
    "            previous = sub\n",
    "    #If stop word, then start substring after than \n",
    "    else:\n",
    "        previous = []"
   ]
  },
  {
   "cell_type": "code",
   "execution_count": 99,
   "metadata": {
    "collapsed": false
   },
   "outputs": [
    {
     "name": "stdout",
     "output_type": "stream",
     "text": [
      "beautiful\n",
      "girl\n",
      "['beautiful', 'girl']\n",
      "from\n",
      "['girl', 'from']\n",
      "['beautiful', 'girl', 'from']\n",
      "farmers\n",
      "market\n",
      "['farmers', 'market']\n",
      "like\n",
      "chewing\n",
      "['like', 'chewing']\n",
      "gum\n",
      "['chewing', 'gum']\n",
      "['like', 'chewing', 'gum']\n"
     ]
    }
   ],
   "source": [
    "for s in sugg:\n",
    "    print(s)"
   ]
  },
  {
   "cell_type": "code",
   "execution_count": 82,
   "metadata": {
    "collapsed": false
   },
   "outputs": [
    {
     "data": {
      "text/plain": [
       "True"
      ]
     },
     "execution_count": 82,
     "metadata": {},
     "output_type": "execute_result"
    }
   ],
   "source": [
    "'the' in ['the']"
   ]
  },
  {
   "cell_type": "code",
   "execution_count": null,
   "metadata": {
    "collapsed": true
   },
   "outputs": [],
   "source": []
  }
 ],
 "metadata": {
  "anaconda-cloud": {},
  "kernelspec": {
   "display_name": "Python [py36]",
   "language": "python",
   "name": "Python [py36]"
  },
  "language_info": {
   "codemirror_mode": {
    "name": "ipython",
    "version": 3
   },
   "file_extension": ".py",
   "mimetype": "text/x-python",
   "name": "python",
   "nbconvert_exporter": "python",
   "pygments_lexer": "ipython3",
   "version": "3.6.3"
  }
 },
 "nbformat": 4,
 "nbformat_minor": 2
}
