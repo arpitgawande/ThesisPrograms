{
 "cells": [
  {
   "cell_type": "code",
   "execution_count": 1,
   "metadata": {
    "collapsed": true
   },
   "outputs": [],
   "source": [
    "def get_plot(feature_df, centroids, ax):\n",
    "    X = feature_df.values\n",
    "    #Create scaling\n",
    "    X_trans = preprocessing.StandardScaler().fit_transform(X)\n",
    "    #Use PCA component analysis for visuals\n",
    "    if X.shape[1] > 2:\n",
    "        reduced_X = PCA(n_components=2).fit_transform(X)\n",
    "        km = KMeans(n_clusters=centroids.shape[0])\n",
    "        km.fit(reduced_X)\n",
    "    else:\n",
    "        reduced_X = X\n",
    "        km = KMeans(n_clusters=centroids.shape[0], init=centroids)\n",
    "        km.fit(reduced_X)\n",
    "   \n",
    "    # Step size of the mesh. Decrease to increase the quality of the VQ.\n",
    "    h = .01     # point in the mesh [x_min, x_max]x[y_min, y_max].\n",
    "\n",
    "    # Plot the decision boundary. For that, we will assign a color to each\n",
    "    x_min, x_max = reduced_X[:, 0].min() - 1, reduced_X[:, 0].max() + 1\n",
    "    y_min, y_max = reduced_X[:, 1].min() - 1, reduced_X[:, 1].max() + 1\n",
    "    xx, yy = np.meshgrid(np.arange(x_min, x_max, h), np.arange(y_min, y_max, h))\n",
    "\n",
    "    # Obtain labels for each point in mesh. Use last trained model.\n",
    "    Z = km.predict(np.c_[xx.ravel(), yy.ravel()])\n",
    "\n",
    "    # Put the result into a color plot\n",
    "    Z = Z.reshape(xx.shape)\n",
    "    plt.imshow(Z, interpolation='nearest',\n",
    "               extent=(xx.min(), xx.max(), yy.min(), yy.max()),\n",
    "               cmap=plt.cm.Paired,\n",
    "               aspect='auto', origin='lower')   \n",
    "    #Plot the data points (PCA reduced components)\n",
    "    centroids = km.cluster_centers_\n",
    "    ax.plot(reduced_X[:,0],reduced_X[:,1],  'k.', markersize=3)\n",
    "    # Plot the centroids as a white X\n",
    "    ax.scatter(centroids[:, 0], centroids[:, 1], marker='x', s=169, linewidths=3, color='w', zorder=10)\n",
    "    ax.set_title('K-means clustering with (PCA-reduced data)')\n",
    "    ax.set_xlim(x_min, x_max)\n",
    "    ax.set_ylim(y_min, y_max)\n",
    "    ax.set_xticks(())\n",
    "    ax.set_yticks(())\n",
    "#     plt.text(0.5, 0.5, str((2, 2, i)),\n",
    "#              fontsize=18, ha='center')\n",
    "fig = plt.figure()\n",
    "for i in range(1, 4):\n",
    "    ax = fig.add_subplot(2, 2, i)\n",
    "    get_plot(train_dfs[i], centroids, ax)"
   ]
  }
 ],
 "metadata": {
  "kernelspec": {
   "display_name": "Python [py36]",
   "language": "python",
   "name": "Python [py36]"
  },
  "language_info": {
   "codemirror_mode": {
    "name": "ipython",
    "version": 3
   },
   "file_extension": ".py",
   "mimetype": "text/x-python",
   "name": "python",
   "nbconvert_exporter": "python",
   "pygments_lexer": "ipython3",
   "version": "3.6.3"
  }
 },
 "nbformat": 4,
 "nbformat_minor": 2
}
