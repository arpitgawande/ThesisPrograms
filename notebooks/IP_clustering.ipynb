{
 "cells": [
  {
   "cell_type": "code",
   "execution_count": 311,
   "metadata": {
    "collapsed": true
   },
   "outputs": [],
   "source": [
    "%matplotlib inline\n",
    "# Common Imports\n",
    "import numpy as np\n",
    "#Pandas for creating dataframes\n",
    "import pandas as pd\n",
    "#Sklearn\n",
    "from sklearn import preprocessing\n",
    "#K-means clustering algo\n",
    "from sklearn.cluster import KMeans\n",
    "#OS moduled for file oprations\n",
    "import os\n",
    "#CSV module\n",
    "import csv\n",
    "#Plotting\n",
    "import matplotlib.pyplot as plt\n",
    "import shutil\n",
    "import glob"
   ]
  },
  {
   "cell_type": "code",
   "execution_count": 673,
   "metadata": {
    "collapsed": true
   },
   "outputs": [],
   "source": [
    "#Base Folder Paths\n",
    "base_folder_name = 'converted'\n",
    "test_folder_name = 'test3'\n",
    "base_path = os.path.join(base_folder_name, test_folder_name)\n",
    "#Normal Sample and cluster paths\n",
    "sample_dir_name = 'samp'\n",
    "sample_path = os.path.join(base_path, sample_dir_name)\n",
    "#If sample folder exist\n",
    "if os.path.isdir(sample_path):\n",
    "    #Test and Train data Folders\n",
    "    sample_train_path = os.path.join(base_path, sample_dir_name+'_train')\n",
    "    os.makedirs(sample_train_path, exist_ok=True)\n",
    "    sample_test_path = os.path.join(base_path, sample_dir_name+'_test')\n",
    "    os.makedirs(sample_test_path, exist_ok=True)\n",
    "    #Clustering folders\n",
    "    cluster_train_path = os.path.join(sample_train_path, 'cluster')\n",
    "    os.makedirs(cluster_train_path, exist_ok=True)\n",
    "    cluster_test_path = os.path.join(sample_test_path, 'cluster')\n",
    "    os.makedirs(cluster_test_path, exist_ok=True)\n",
    "#Defining features\n",
    "features = [1, 6, 17] #(ICMP:1, TCP:6, UDP:17)    "
   ]
  },
  {
   "cell_type": "code",
   "execution_count": 638,
   "metadata": {
    "collapsed": false
   },
   "outputs": [],
   "source": [
    "def filter_ip(df, ip_addr):\n",
    "    with open(os.path.join(base_path,\"filtered_ip_feture_vector\"), \"a+\") as f:\n",
    "        df.loc[ip_addr].to_csv(f, header=False)\n",
    "    df = df.drop([ip_addr])\n",
    "    return df    "
   ]
  },
  {
   "cell_type": "code",
   "execution_count": 743,
   "metadata": {
    "collapsed": false
   },
   "outputs": [],
   "source": [
    "def get_feature_dataframe(sample_file, features):\n",
    "        df = pd.read_csv(sample_file, index_col=0)\n",
    "        #Filter Columns\n",
    "        df = df[['ip.dst', 'ip.proto', 'sniff_timestamp', 'sample']]\n",
    "        #Remove null destinations\n",
    "        df = df[df['ip.dst'].notnull()]\n",
    "        #Rename Columns\n",
    "        df.columns = ['ip', 'protocol', 'time_stamp', 'sample']\n",
    "        #Get count for each ip\n",
    "        df = df.groupby(['ip', 'protocol']).size().unstack().fillna(0).astype(int)\n",
    "        #Drop row for given IP\n",
    "        #df = filter_ip(df, '147.32.84.165')        \n",
    "        if(set(df.columns) != set(features)):\n",
    "            non_columns = set(features) - set(df.columns)\n",
    "            for c in non_columns:\n",
    "                df.insert(loc=features.index(c), column=c, value=0)\n",
    "        #Select only required protocols which would be used as features\n",
    "        df = df[features]\n",
    "        return df"
   ]
  },
  {
   "cell_type": "code",
   "execution_count": 744,
   "metadata": {
    "collapsed": false
   },
   "outputs": [],
   "source": [
    "filenames = sorted(glob.glob(os.path.join(sample_path,'*')),  key=os.path.getmtime)\n",
    "df = get_feature_dataframe(filenames[0], features)"
   ]
  },
  {
   "cell_type": "code",
   "execution_count": 676,
   "metadata": {
    "collapsed": false
   },
   "outputs": [
    {
     "data": {
      "text/html": [
       "<div>\n",
       "<style>\n",
       "    .dataframe thead tr:only-child th {\n",
       "        text-align: right;\n",
       "    }\n",
       "\n",
       "    .dataframe thead th {\n",
       "        text-align: left;\n",
       "    }\n",
       "\n",
       "    .dataframe tbody tr th {\n",
       "        vertical-align: top;\n",
       "    }\n",
       "</style>\n",
       "<table border=\"1\" class=\"dataframe\">\n",
       "  <thead>\n",
       "    <tr style=\"text-align: right;\">\n",
       "      <th>protocol</th>\n",
       "      <th>1</th>\n",
       "      <th>6</th>\n",
       "      <th>17</th>\n",
       "    </tr>\n",
       "    <tr>\n",
       "      <th>ip</th>\n",
       "      <th></th>\n",
       "      <th></th>\n",
       "      <th></th>\n",
       "    </tr>\n",
       "  </thead>\n",
       "  <tbody>\n",
       "    <tr>\n",
       "      <th>147.32.80.9</th>\n",
       "      <td>0</td>\n",
       "      <td>0</td>\n",
       "      <td>14</td>\n",
       "    </tr>\n",
       "    <tr>\n",
       "      <th>147.32.84.255</th>\n",
       "      <td>0</td>\n",
       "      <td>0</td>\n",
       "      <td>50</td>\n",
       "    </tr>\n",
       "    <tr>\n",
       "      <th>195.88.191.59</th>\n",
       "      <td>0</td>\n",
       "      <td>2</td>\n",
       "      <td>0</td>\n",
       "    </tr>\n",
       "    <tr>\n",
       "      <th>224.0.0.22</th>\n",
       "      <td>0</td>\n",
       "      <td>0</td>\n",
       "      <td>0</td>\n",
       "    </tr>\n",
       "    <tr>\n",
       "      <th>239.255.255.250</th>\n",
       "      <td>0</td>\n",
       "      <td>0</td>\n",
       "      <td>6</td>\n",
       "    </tr>\n",
       "  </tbody>\n",
       "</table>\n",
       "</div>"
      ],
      "text/plain": [
       "protocol         1   6   17\n",
       "ip                         \n",
       "147.32.80.9       0   0  14\n",
       "147.32.84.255     0   0  50\n",
       "195.88.191.59     0   2   0\n",
       "224.0.0.22        0   0   0\n",
       "239.255.255.250   0   0   6"
      ]
     },
     "execution_count": 676,
     "metadata": {},
     "output_type": "execute_result"
    }
   ],
   "source": [
    "df.head()"
   ]
  },
  {
   "cell_type": "code",
   "execution_count": 718,
   "metadata": {
    "collapsed": true
   },
   "outputs": [],
   "source": [
    "#Merge sample files to create bigger sameple\n",
    "def merge_files(files, merge_count, features):\n",
    "    if len(files) < merge_count:\n",
    "        print('Too few file to merge')\n",
    "        return\n",
    "    dfs = []\n",
    "    count = 0\n",
    "    for file in files:\n",
    "        if count == 0:\n",
    "            df = get_feature_dataframe(file, features)\n",
    "            count += 1\n",
    "        else:\n",
    "            temp_df = get_feature_dataframe(file, features)\n",
    "            df = df.append(temp_df)\n",
    "            count += 1\n",
    "        if count == merge_count:\n",
    "            df = df.groupby(df.index).sum()\n",
    "            dfs.append(df)\n",
    "            count = 0\n",
    "    return dfs"
   ]
  },
  {
   "cell_type": "code",
   "execution_count": 719,
   "metadata": {
    "collapsed": false
   },
   "outputs": [],
   "source": [
    "def create_train_test(sample_path, features):\n",
    "    train_dfs = []; test_dfs = []\n",
    "    filenames = sorted(glob.glob(os.path.join(sample_path,'*')),  key=os.path.getmtime)\n",
    "    file_count = len(filenames)\n",
    "    #Split train and test Train size 80% of data and 20% (1/5 th) is test\n",
    "    reminder = file_count%5\n",
    "    #Number of files to be combined to form one train/test data\n",
    "    merge_count = int((file_count - reminder) / 5)\n",
    "    \n",
    "    train_files = filenames[:merge_count*4]\n",
    "    test_files = filenames[merge_count*4:]\n",
    "    \n",
    "    train_dfs = merge_files(train_files, merge_count, features)\n",
    "    test_dfs = merge_files(test_files, merge_count, features)\n",
    "    return train_dfs, test_dfs, merge_count"
   ]
  },
  {
   "cell_type": "code",
   "execution_count": 720,
   "metadata": {
    "collapsed": false
   },
   "outputs": [
    {
     "ename": "AttributeError",
     "evalue": "'numpy.ndarray' object has no attribute 'index'",
     "output_type": "error",
     "traceback": [
      "\u001b[0;31m---------------------------------------------------------------------------\u001b[0m",
      "\u001b[0;31mAttributeError\u001b[0m                            Traceback (most recent call last)",
      "\u001b[0;32m<ipython-input-720-f53688d2bd61>\u001b[0m in \u001b[0;36m<module>\u001b[0;34m()\u001b[0m\n\u001b[0;32m----> 1\u001b[0;31m \u001b[0mtrain_dfs\u001b[0m\u001b[0;34m,\u001b[0m \u001b[0mtest_dfs\u001b[0m\u001b[0;34m,\u001b[0m \u001b[0mmerge_count\u001b[0m \u001b[0;34m=\u001b[0m \u001b[0mcreate_train_test\u001b[0m\u001b[0;34m(\u001b[0m\u001b[0msample_path\u001b[0m\u001b[0;34m,\u001b[0m \u001b[0mfeatures\u001b[0m\u001b[0;34m)\u001b[0m\u001b[0;34m\u001b[0m\u001b[0m\n\u001b[0m",
      "\u001b[0;32m<ipython-input-719-5dd35c6c834d>\u001b[0m in \u001b[0;36mcreate_train_test\u001b[0;34m(sample_path, features)\u001b[0m\n\u001b[1;32m     11\u001b[0m     \u001b[0mtest_files\u001b[0m \u001b[0;34m=\u001b[0m \u001b[0mfilenames\u001b[0m\u001b[0;34m[\u001b[0m\u001b[0mmerge_count\u001b[0m\u001b[0;34m*\u001b[0m\u001b[0;36m4\u001b[0m\u001b[0;34m:\u001b[0m\u001b[0;34m]\u001b[0m\u001b[0;34m\u001b[0m\u001b[0m\n\u001b[1;32m     12\u001b[0m \u001b[0;34m\u001b[0m\u001b[0m\n\u001b[0;32m---> 13\u001b[0;31m     \u001b[0mtrain_dfs\u001b[0m \u001b[0;34m=\u001b[0m \u001b[0mmerge_files\u001b[0m\u001b[0;34m(\u001b[0m\u001b[0mtrain_files\u001b[0m\u001b[0;34m,\u001b[0m \u001b[0mmerge_count\u001b[0m\u001b[0;34m,\u001b[0m \u001b[0mfeatures\u001b[0m\u001b[0;34m)\u001b[0m\u001b[0;34m\u001b[0m\u001b[0m\n\u001b[0m\u001b[1;32m     14\u001b[0m     \u001b[0mtest_dfs\u001b[0m \u001b[0;34m=\u001b[0m \u001b[0mmerge_files\u001b[0m\u001b[0;34m(\u001b[0m\u001b[0mtest_files\u001b[0m\u001b[0;34m,\u001b[0m \u001b[0mmerge_count\u001b[0m\u001b[0;34m,\u001b[0m \u001b[0mfeatures\u001b[0m\u001b[0;34m)\u001b[0m\u001b[0;34m\u001b[0m\u001b[0m\n\u001b[1;32m     15\u001b[0m     \u001b[0;32mreturn\u001b[0m \u001b[0mtrain_dfs\u001b[0m\u001b[0;34m,\u001b[0m \u001b[0mtest_dfs\u001b[0m\u001b[0;34m,\u001b[0m \u001b[0mmerge_count\u001b[0m\u001b[0;34m\u001b[0m\u001b[0m\n",
      "\u001b[0;32m<ipython-input-718-6ed12b657d07>\u001b[0m in \u001b[0;36mmerge_files\u001b[0;34m(files, merge_count, features)\u001b[0m\n\u001b[1;32m      8\u001b[0m     \u001b[0;32mfor\u001b[0m \u001b[0mfile\u001b[0m \u001b[0;32min\u001b[0m \u001b[0mfiles\u001b[0m\u001b[0;34m:\u001b[0m\u001b[0;34m\u001b[0m\u001b[0m\n\u001b[1;32m      9\u001b[0m         \u001b[0;32mif\u001b[0m \u001b[0mcount\u001b[0m \u001b[0;34m==\u001b[0m \u001b[0;36m0\u001b[0m\u001b[0;34m:\u001b[0m\u001b[0;34m\u001b[0m\u001b[0m\n\u001b[0;32m---> 10\u001b[0;31m             \u001b[0mdf\u001b[0m \u001b[0;34m=\u001b[0m \u001b[0mget_feature_dataframe\u001b[0m\u001b[0;34m(\u001b[0m\u001b[0mfile\u001b[0m\u001b[0;34m,\u001b[0m \u001b[0mfeatures\u001b[0m\u001b[0;34m)\u001b[0m\u001b[0;34m\u001b[0m\u001b[0m\n\u001b[0m\u001b[1;32m     11\u001b[0m             \u001b[0mcount\u001b[0m \u001b[0;34m+=\u001b[0m \u001b[0;36m1\u001b[0m\u001b[0;34m\u001b[0m\u001b[0m\n\u001b[1;32m     12\u001b[0m         \u001b[0;32melse\u001b[0m\u001b[0;34m:\u001b[0m\u001b[0;34m\u001b[0m\u001b[0m\n",
      "\u001b[0;32m<ipython-input-696-a5ad14d9aa34>\u001b[0m in \u001b[0;36mget_feature_dataframe\u001b[0;34m(sample_file, features)\u001b[0m\n\u001b[1;32m     14\u001b[0m             \u001b[0mnon_columns\u001b[0m \u001b[0;34m=\u001b[0m \u001b[0mset\u001b[0m\u001b[0;34m(\u001b[0m\u001b[0mfeatures\u001b[0m\u001b[0;34m)\u001b[0m \u001b[0;34m-\u001b[0m \u001b[0mset\u001b[0m\u001b[0;34m(\u001b[0m\u001b[0mdf\u001b[0m\u001b[0;34m.\u001b[0m\u001b[0mcolumns\u001b[0m\u001b[0;34m)\u001b[0m\u001b[0;34m\u001b[0m\u001b[0m\n\u001b[1;32m     15\u001b[0m             \u001b[0;32mfor\u001b[0m \u001b[0mc\u001b[0m \u001b[0;32min\u001b[0m \u001b[0mnon_columns\u001b[0m\u001b[0;34m:\u001b[0m\u001b[0;34m\u001b[0m\u001b[0m\n\u001b[0;32m---> 16\u001b[0;31m                 \u001b[0mdf\u001b[0m\u001b[0;34m.\u001b[0m\u001b[0minsert\u001b[0m\u001b[0;34m(\u001b[0m\u001b[0mloc\u001b[0m\u001b[0;34m=\u001b[0m\u001b[0mfeatures\u001b[0m\u001b[0;34m.\u001b[0m\u001b[0mindex\u001b[0m\u001b[0;34m(\u001b[0m\u001b[0mc\u001b[0m\u001b[0;34m)\u001b[0m\u001b[0;34m,\u001b[0m \u001b[0mcolumn\u001b[0m\u001b[0;34m=\u001b[0m\u001b[0mc\u001b[0m\u001b[0;34m,\u001b[0m \u001b[0mvalue\u001b[0m\u001b[0;34m=\u001b[0m\u001b[0;36m0\u001b[0m\u001b[0;34m)\u001b[0m\u001b[0;34m\u001b[0m\u001b[0m\n\u001b[0m\u001b[1;32m     17\u001b[0m         \u001b[0;31m#Select only required protocols which would be used as features\u001b[0m\u001b[0;34m\u001b[0m\u001b[0;34m\u001b[0m\u001b[0m\n\u001b[1;32m     18\u001b[0m         \u001b[0mdf\u001b[0m \u001b[0;34m=\u001b[0m \u001b[0mdf\u001b[0m\u001b[0;34m[\u001b[0m\u001b[0mfeatures\u001b[0m\u001b[0;34m]\u001b[0m\u001b[0;34m\u001b[0m\u001b[0m\n",
      "\u001b[0;31mAttributeError\u001b[0m: 'numpy.ndarray' object has no attribute 'index'"
     ]
    }
   ],
   "source": [
    "train_dfs, test_dfs, merge_count = create_train_test(sample_path, features)"
   ]
  },
  {
   "cell_type": "code",
   "execution_count": 680,
   "metadata": {
    "collapsed": false
   },
   "outputs": [],
   "source": [
    "np.savetxt(os.path.join(base_path, 'merge_count'), np.asarray(merge_count).reshape(1,), fmt='%d')"
   ]
  },
  {
   "cell_type": "code",
   "execution_count": 681,
   "metadata": {
    "collapsed": false
   },
   "outputs": [],
   "source": [
    "#Write train and test data to file\n",
    "train_files = []\n",
    "for i, df in enumerate(train_dfs, 1):\n",
    "    train_file = os.path.join(sample_train_path,str(i))\n",
    "    df.to_csv(train_file)\n",
    "    train_files.append(train_file)\n",
    "test_files = []    \n",
    "for i, df in enumerate(test_dfs, 1):\n",
    "    test_file = os.path.join(sample_test_path,str(i))\n",
    "    df.to_csv(test_file)\n",
    "    test_files.append(test_file)"
   ]
  },
  {
   "cell_type": "code",
   "execution_count": 682,
   "metadata": {
    "collapsed": true
   },
   "outputs": [],
   "source": [
    "from sklearn.cluster import KMeans\n",
    "#Find optimal number of clusters for k-means clustering using elbow method.\n",
    "def elbow_method(X_trans):\n",
    "    elbow_count = 0\n",
    "    range_val = 10\n",
    "    nc = range(1, range_val)\n",
    "    kmeans = [KMeans(n_clusters=i) for i in nc]\n",
    "    score = [kmeans[i].fit(X_trans).score(X_trans) for i in range(len(kmeans))]\n",
    "    total_diff = abs(score[0] - score[len(score) -1])\n",
    "    for i in range(range_val - 2):\n",
    "        percent_diff = abs(score[i] - score[i+1])/total_diff\n",
    "        if percent_diff < 0.01:\n",
    "            opt_clust_count = i\n",
    "            break\n",
    "#     plt.plot(nc,score)\n",
    "#     plt.xlabel('Number of Clusters')\n",
    "#     plt.ylabel('Score')\n",
    "#     plt.title('Elbow Curve')\n",
    "#     plt.show()\n",
    "    return opt_clust_count"
   ]
  },
  {
   "cell_type": "code",
   "execution_count": 683,
   "metadata": {
    "collapsed": false
   },
   "outputs": [],
   "source": [
    "#Apply elbow method on all the samples and get their mean\n",
    "def get_optimal_cluster_count(df_list):\n",
    "    elbow_vals = []\n",
    "    for df in df_list:\n",
    "        X = df.values\n",
    "        #Create scaling\n",
    "        scaler = preprocessing.StandardScaler().fit(X)\n",
    "        #Transform Traning data\n",
    "        X_trans = scaler.transform(X)\n",
    "        elbow = elbow_method(X_trans)\n",
    "        elbow_vals.append(elbow)\n",
    "    return int(np.floor(np.mean(elbow_vals)))"
   ]
  },
  {
   "cell_type": "code",
   "execution_count": 684,
   "metadata": {
    "collapsed": false
   },
   "outputs": [
    {
     "name": "stderr",
     "output_type": "stream",
     "text": [
      "/home/arpit/anaconda3/envs/py36/lib/python3.6/site-packages/sklearn/utils/validation.py:475: DataConversionWarning: Data with input dtype int64 was converted to float64 by StandardScaler.\n",
      "  warnings.warn(msg, DataConversionWarning)\n"
     ]
    }
   ],
   "source": [
    "cluster_count = get_optimal_cluster_count(train_dfs)"
   ]
  },
  {
   "cell_type": "code",
   "execution_count": 685,
   "metadata": {
    "collapsed": false
   },
   "outputs": [
    {
     "data": {
      "text/plain": [
       "5"
      ]
     },
     "execution_count": 685,
     "metadata": {},
     "output_type": "execute_result"
    }
   ],
   "source": [
    "cluster_count"
   ]
  },
  {
   "cell_type": "code",
   "execution_count": 686,
   "metadata": {
    "collapsed": true
   },
   "outputs": [],
   "source": [
    "# Calculating Eigenvectors and eigenvalues of Cov matirx\n",
    "def PCA_component_analysis(X_std):\n",
    "    mean_vec = np.mean(X_std, axis=0)\n",
    "    cov_mat = np.cov(X_std.T)\n",
    "    eig_vals, eig_vecs = np.linalg.eig(cov_mat)\n",
    "\n",
    "    # Create a list of (eigenvalue, eigenvector) tuples\n",
    "    eig_pairs = [ (np.abs(eig_vals[i]),eig_vecs[:,i]) for i in range(len(eig_vals))]\n",
    "\n",
    "    # # Sort from high to low\n",
    "    eig_pairs.sort(key = lambda x: x[0], reverse= True)\n",
    "\n",
    "    # Calculation of Explained Variance from the eigenvalues\n",
    "    tot = sum(eig_vals)\n",
    "    var_exp = [(i/tot)*100 for i in sorted(eig_vals, reverse=True)] # Individual explained variance\n",
    "    cum_var_exp = np.cumsum(var_exp) # Cumulative explained variance\n",
    "\n",
    "    # PLOT OUT THE EXPLAINED VARIANCES SUPERIMPOSED \n",
    "    plt.figure(figsize=(10, 5))\n",
    "    plt.bar(range(9), var_exp, alpha=0.3333, align='center', label='individual explained variance', color = 'g')\n",
    "    plt.step(range(9), cum_var_exp, where='mid',label='cumulative explained variance')\n",
    "    plt.ylabel('Explained variance ratio')\n",
    "    plt.xlabel('Principal components')\n",
    "    plt.legend(loc='best')\n",
    "    plt.show()"
   ]
  },
  {
   "cell_type": "code",
   "execution_count": 687,
   "metadata": {
    "collapsed": true
   },
   "outputs": [],
   "source": [
    "def get_kmeans_centroid(feature_df, cluster_count):\n",
    "    \"\"\" \n",
    "    X: feature vector \n",
    "    cluster_count: Number of clusters to be used for k-means\n",
    "    \"\"\"\n",
    "    df_centroid = {}\n",
    "    X = feature_df.values\n",
    "    #Create scaling\n",
    "    scaler = preprocessing.StandardScaler().fit(X)\n",
    "    #Transform Traning data\n",
    "    X_trans = scaler.transform(X)\n",
    "    #Data Fitting using K-means\n",
    "    kmeans = KMeans(n_clusters=cluster_count)\n",
    "    kmeans.fit(X_trans)\n",
    "    #Insert cluster center to its corrosposnding dataframe each dataframe.\n",
    "    #Dataframe 0 contain all the clusters centers associated with 0th cluster\n",
    "    first = True\n",
    "    for i in range(kmeans.cluster_centers_.shape[0]):\n",
    "        s = pd.Series(kmeans.cluster_centers_[i], index=feature_df.columns)\n",
    "        if(first):\n",
    "            df_centroid = pd.DataFrame(columns=feature_df.columns)\n",
    "            first = False\n",
    "        df_centroid = df_centroid.append(s,ignore_index=True)\n",
    "    return df_centroid"
   ]
  },
  {
   "cell_type": "code",
   "execution_count": 688,
   "metadata": {
    "collapsed": false
   },
   "outputs": [],
   "source": [
    "#Find the median of all the centroid which will be better estimate of the centroid for all future k-means clustering\n",
    "def kmeans_common_create_centroids(sample_frames, features, cluster_count, centroid_filename, features_filename):\n",
    "    \"\"\"\n",
    "    sample_frames: list of feature vector datafames\n",
    "    centroid_filename: File in which centroid has to be stored for future analyasis\n",
    "    features_filename: File in which feature list will be stored\n",
    "    \"\"\"\n",
    "    df_concat = pd.DataFrame(columns=features)\n",
    "    for df in sample_frames:\n",
    "        #Run kmeans and get centroid\n",
    "        df_centroid = get_kmeans_centroid(df, cluster_count)\n",
    "        #Create list of centroids\n",
    "        df_concat = df_concat.append(df_centroid)\n",
    "    centroids = []\n",
    "    #Find median for each centroid and store them in file\n",
    "    for c in range(cluster_count):\n",
    "        med = np.median(df_concat.loc[c], axis=0) # e.g. df_concat.loc[0] is df of clister 0\n",
    "        centroids.append(med)\n",
    "    #Save centroids and features in files for future use\n",
    "    np.savetxt(os.path.join(base_path, centroid_filename), np.asarray(centroids), delimiter=\",\")\n",
    "    np.savetxt(os.path.join(base_path, features_filename), np.asarray(list(features)), delimiter=\",\")\n",
    "    return centroids, features"
   ]
  },
  {
   "cell_type": "code",
   "execution_count": 689,
   "metadata": {
    "collapsed": false
   },
   "outputs": [
    {
     "name": "stderr",
     "output_type": "stream",
     "text": [
      "/home/arpit/anaconda3/envs/py36/lib/python3.6/site-packages/sklearn/utils/validation.py:475: DataConversionWarning: Data with input dtype int64 was converted to float64 by StandardScaler.\n",
      "  warnings.warn(msg, DataConversionWarning)\n"
     ]
    },
    {
     "data": {
      "text/plain": [
       "([array([-0.01879115, -0.08887731, -0.07154674]),\n",
       "  array([ 0.        ,  6.20903888, -0.12229021]),\n",
       "  array([ 0.        , -0.13241162,  8.76916696]),\n",
       "  array([-0.01879115, -0.11294475,  5.86812101]),\n",
       "  array([-0.01879115,  2.21751556, -0.0790368 ])],\n",
       " [1, 6, 17])"
      ]
     },
     "execution_count": 689,
     "metadata": {},
     "output_type": "execute_result"
    }
   ],
   "source": [
    "#File to store centroids\n",
    "centroid_filename = 'centroids.csv'\n",
    "#File to store feature list\n",
    "features_filename = 'features.csv'\n",
    "#Call to find median of centroid\n",
    "kmeans_common_create_centroids(train_dfs, features, cluster_count, centroid_filename, features_filename)"
   ]
  },
  {
   "cell_type": "code",
   "execution_count": 738,
   "metadata": {
    "collapsed": true
   },
   "outputs": [],
   "source": [
    "#Get centroids and feature from the files\n",
    "def read_centroid_features(centroid_filename, features_filename):\n",
    "    centroids = np.genfromtxt(os.path.join(base_path,centroid_filename), delimiter=',')\n",
    "    features = np.genfromtxt(os.path.join(base_path,features_filename), delimiter=',')\n",
    "    features = list(features.astype('int64'))\n",
    "    return centroids, features        "
   ]
  },
  {
   "cell_type": "code",
   "execution_count": 691,
   "metadata": {
    "collapsed": false
   },
   "outputs": [],
   "source": [
    "from sklearn.decomposition import PCA\n",
    "def draw_clusters(X, centroids, kmeans):\n",
    "    #Use PCA component analysis for visuals\n",
    "    if X.shape[1] > 2:\n",
    "        reduced_X = PCA(n_components=2).fit_transform(X)\n",
    "        km = KMeans(n_clusters=len(np.unique(kmeans.labels_)))\n",
    "        km.fit(reduced_X)\n",
    "    else:\n",
    "        reduced_X = X\n",
    "        km = kmeans\n",
    "   \n",
    "    # Step size of the mesh. Decrease to increase the quality of the VQ.\n",
    "    h = .01     # point in the mesh [x_min, x_max]x[y_min, y_max].\n",
    "\n",
    "    # Plot the decision boundary. For that, we will assign a color to each\n",
    "    x_min, x_max = reduced_X[:, 0].min() - 1, reduced_X[:, 0].max() + 1\n",
    "    y_min, y_max = reduced_X[:, 1].min() - 1, reduced_X[:, 1].max() + 1\n",
    "    xx, yy = np.meshgrid(np.arange(x_min, x_max, h), np.arange(y_min, y_max, h))\n",
    "\n",
    "    # Obtain labels for each point in mesh. Use last trained model.\n",
    "    Z = km.predict(np.c_[xx.ravel(), yy.ravel()])\n",
    "\n",
    "    # Put the result into a color plot\n",
    "    Z = Z.reshape(xx.shape)\n",
    "    plt.imshow(Z, interpolation='nearest',\n",
    "               extent=(xx.min(), xx.max(), yy.min(), yy.max()),\n",
    "               cmap=plt.cm.Paired,\n",
    "               aspect='auto', origin='lower')   \n",
    "    #Plot the data points (PCA reduced components)\n",
    "    plt.plot(reduced_X[:,0],reduced_X[:,1],  'k.', markersize=3)\n",
    "    # Plot the centroids as a white X\n",
    "    centroids = km.cluster_centers_\n",
    "    plt.scatter(centroids[:, 0], centroids[:, 1], marker='x', s=169, linewidths=3, color='w', zorder=10)\n",
    "    plt.title('K-means clustering with (PCA-reduced data)')\n",
    "    plt.xlim(x_min, x_max)\n",
    "    plt.ylim(y_min, y_max)\n",
    "    plt.xticks(())\n",
    "    plt.yticks(())\n",
    "    plt.show()"
   ]
  },
  {
   "cell_type": "code",
   "execution_count": 692,
   "metadata": {
    "collapsed": true
   },
   "outputs": [],
   "source": [
    "def kmeans_clustering(feature_df, centroids):\n",
    "    X = feature_df.values\n",
    "    #Create scaling\n",
    "    scaler = preprocessing.StandardScaler().fit(X)\n",
    "    #Transform Traning data\n",
    "    X_trans = scaler.transform(X)\n",
    "    #k means clustering using provided centroids \n",
    "    kmeans = KMeans(n_clusters=centroids.shape[0], init=centroids)\n",
    "    clusters = kmeans.fit_predict(X_trans)\n",
    "    #Plot clusters and data using PCA component analysis\n",
    "    draw_clusters(X_trans, centroids, kmeans)\n",
    "    #Getting the labels/clusters and distances of each IP from centroid\n",
    "    cluster_df = pd.DataFrame({'cluster': kmeans.labels_})\n",
    "    #Attaching label and distance to existing df and write new dataframe to file\n",
    "    df = pd.concat([feature_df.reset_index(), cluster_df], axis=1).set_index('ip')\n",
    "    return df"
   ]
  },
  {
   "cell_type": "code",
   "execution_count": 693,
   "metadata": {
    "collapsed": false
   },
   "outputs": [
    {
     "data": {
      "text/html": [
       "<div>\n",
       "<style>\n",
       "    .dataframe thead tr:only-child th {\n",
       "        text-align: right;\n",
       "    }\n",
       "\n",
       "    .dataframe thead th {\n",
       "        text-align: left;\n",
       "    }\n",
       "\n",
       "    .dataframe tbody tr th {\n",
       "        vertical-align: top;\n",
       "    }\n",
       "</style>\n",
       "<table border=\"1\" class=\"dataframe\">\n",
       "  <thead>\n",
       "    <tr style=\"text-align: right;\">\n",
       "      <th>protocol</th>\n",
       "      <th>1</th>\n",
       "      <th>6</th>\n",
       "      <th>17</th>\n",
       "    </tr>\n",
       "    <tr>\n",
       "      <th>ip</th>\n",
       "      <th></th>\n",
       "      <th></th>\n",
       "      <th></th>\n",
       "    </tr>\n",
       "  </thead>\n",
       "  <tbody>\n",
       "    <tr>\n",
       "      <th>101.0.32.121</th>\n",
       "      <td>0</td>\n",
       "      <td>6</td>\n",
       "      <td>0</td>\n",
       "    </tr>\n",
       "    <tr>\n",
       "      <th>109.200.239.148</th>\n",
       "      <td>0</td>\n",
       "      <td>6</td>\n",
       "      <td>0</td>\n",
       "    </tr>\n",
       "    <tr>\n",
       "      <th>109.206.161.3</th>\n",
       "      <td>0</td>\n",
       "      <td>0</td>\n",
       "      <td>2</td>\n",
       "    </tr>\n",
       "    <tr>\n",
       "      <th>109.206.162.162</th>\n",
       "      <td>0</td>\n",
       "      <td>0</td>\n",
       "      <td>2</td>\n",
       "    </tr>\n",
       "    <tr>\n",
       "      <th>109.234.156.34</th>\n",
       "      <td>0</td>\n",
       "      <td>0</td>\n",
       "      <td>6</td>\n",
       "    </tr>\n",
       "  </tbody>\n",
       "</table>\n",
       "</div>"
      ],
      "text/plain": [
       "protocol         1   6   17\n",
       "ip                         \n",
       "101.0.32.121      0   6   0\n",
       "109.200.239.148   0   6   0\n",
       "109.206.161.3     0   0   2\n",
       "109.206.162.162   0   0   2\n",
       "109.234.156.34    0   0   6"
      ]
     },
     "execution_count": 693,
     "metadata": {},
     "output_type": "execute_result"
    }
   ],
   "source": [
    "test_dfs[0].head()"
   ]
  },
  {
   "cell_type": "code",
   "execution_count": 694,
   "metadata": {
    "collapsed": false
   },
   "outputs": [
    {
     "name": "stderr",
     "output_type": "stream",
     "text": [
      "/home/arpit/anaconda3/envs/py36/lib/python3.6/site-packages/sklearn/utils/validation.py:475: DataConversionWarning: Data with input dtype int64 was converted to float64 by StandardScaler.\n",
      "  warnings.warn(msg, DataConversionWarning)\n",
      "/home/arpit/anaconda3/envs/py36/lib/python3.6/site-packages/sklearn/cluster/k_means_.py:896: RuntimeWarning: Explicit initial center position passed: performing only one init in k-means instead of n_init=10\n",
      "  return_n_iter=True)\n"
     ]
    },
    {
     "data": {
      "image/png": "[encoded data removed]",
      "text/plain": [
       "<matplotlib.figure.Figure at 0x7fabb320b588>"
      ]
     },
     "metadata": {},
     "output_type": "display_data"
    },
    {
     "data": {
      "image/png": "[encoded data removed]",
      "text/plain": [
       "<matplotlib.figure.Figure at 0x7fabc04af400>"
      ]
     },
     "metadata": {},
     "output_type": "display_data"
    },
    {
     "data": {
      "image/png": "[encoded data removed]",
      "text/plain": [
       "<matplotlib.figure.Figure at 0x7fabb320b710>"
      ]
     },
     "metadata": {},
     "output_type": "display_data"
    },
    {
     "data": {
      "image/png": "[encoded data removed]",
      "text/plain": [
       "<matplotlib.figure.Figure at 0x7fabc0291128>"
      ]
     },
     "metadata": {},
     "output_type": "display_data"
    },
    {
     "data": {
      "image/png": "[encoded data removed]",
      "text/plain": [
       "<matplotlib.figure.Figure at 0x7fabc05393c8>"
      ]
     },
     "metadata": {},
     "output_type": "display_data"
    }
   ],
   "source": [
    "#Cluster all the samples and store them\n",
    "centroids, features = read_centroid_features(centroid_filename, features_filename)\n",
    "for i, train_df in enumerate(train_dfs):\n",
    "    clustered_df = kmeans_clustering(train_df, centroids)\n",
    "    clustered_df.to_csv(os.path.join(cluster_train_path,str(i+1)))\n",
    "for i, test_df in enumerate(test_dfs): \n",
    "    clustered_df = kmeans_clustering(test_df, centroids)\n",
    "    clustered_df.to_csv(os.path.join(cluster_test_path,str(i+1)))    "
   ]
  },
  {
   "cell_type": "code",
   "execution_count": 603,
   "metadata": {
    "collapsed": false
   },
   "outputs": [
    {
     "name": "stdout",
     "output_type": "stream",
     "text": [
      "[[ -0.04738068  -0.06822557  -0.06982052]\n",
      " [ 22.80308191  17.74949208  17.96797293]\n",
      " [ -0.04922785   6.2419703    7.16864891]\n",
      " [ -0.04223703   3.52101055  -0.09143534]\n",
      " [ -0.04922785  -0.12620575   4.4876168 ]]\n"
     ]
    }
   ],
   "source": [
    "print(centroids)"
   ]
  },
  {
   "cell_type": "code",
   "execution_count": 697,
   "metadata": {
    "collapsed": true
   },
   "outputs": [],
   "source": [
    "def ge_clustering_results(cluster_path):\n",
    "    files = sorted(glob.glob(os.path.join(cluster_path,'*')),  key=os.path.getmtime)\n",
    "    first = True\n",
    "    for file in files:\n",
    "        if first:\n",
    "            df = pd.read_csv(file, index_col=0)\n",
    "            first = False\n",
    "        else:\n",
    "            temp_df = pd.read_csv(file, index_col=0)\n",
    "            df = df.append(temp_df) \n",
    "    df = df.reset_index().set_index(['ip'])\n",
    "    \n",
    "    #Merge the duplicates\n",
    "    new_columns =  ['cluster', 'packet_count']\n",
    "    features = list(df.columns[:-1])\n",
    "    cluster_column = list(df.columns[-1:])\n",
    "    #Average packet count across all the samples\n",
    "    packet_count = df[features].groupby('ip').mean().sum(axis=1).astype('int64')\n",
    "    #most occuring cluster across all samples\n",
    "    cluster = df[cluster_column].groupby('ip').median().astype('int64')\n",
    "    #Create new dataframe with cluster and packet count \n",
    "    new_df = pd.concat([cluster, packet_count], axis=1)\n",
    "    new_df.columns = new_columns\n",
    "    return new_df"
   ]
  },
  {
   "cell_type": "code",
   "execution_count": 698,
   "metadata": {
    "collapsed": true
   },
   "outputs": [],
   "source": [
    "train_df = ge_clustering_results(train_cluster_path)\n",
    "test_df = ge_clustering_results(test_cluster_path)"
   ]
  },
  {
   "cell_type": "code",
   "execution_count": 699,
   "metadata": {
    "collapsed": false
   },
   "outputs": [
    {
     "data": {
      "text/plain": [
       "((1734, 2), (1495, 2))"
      ]
     },
     "execution_count": 699,
     "metadata": {},
     "output_type": "execute_result"
    }
   ],
   "source": [
    "train_df.shape, test_df.shape"
   ]
  },
  {
   "cell_type": "code",
   "execution_count": 700,
   "metadata": {
    "collapsed": true
   },
   "outputs": [],
   "source": [
    "#Save train result to file\n",
    "train_tag_filename = 'ip_cluster_tag_train'\n",
    "tag_file = os.path.join(base_path,train_tag_filename)\n",
    "train_df.to_csv(tag_file)\n",
    "#Save test result to file\n",
    "test_tag_filename = 'ip_cluster_tag_test'\n",
    "tag_file = os.path.join(base_path,test_tag_filename)\n",
    "test_df.to_csv(tag_file)"
   ]
  },
  {
   "cell_type": "code",
   "execution_count": 701,
   "metadata": {
    "collapsed": true
   },
   "outputs": [],
   "source": [
    "train_tag_filename = 'ip_cluster_tag_train'\n",
    "train_tag_file = os.path.join(base_path,train_tag_filename)\n",
    "train_df = df.from_csv(train_tag_file)\n",
    "test_tag_filename = 'ip_cluster_tag_test'\n",
    "test_tag_file = os.path.join(base_path,test_tag_filename)\n",
    "test_df = df.from_csv(test_tag_file)"
   ]
  },
  {
   "cell_type": "code",
   "execution_count": 702,
   "metadata": {
    "collapsed": true
   },
   "outputs": [],
   "source": [
    "import numpy as np\n",
    "from scipy.misc import comb\n",
    "\n",
    "def get_rand_index_score(train_df, test_df):\n",
    "    r = pd.merge(train_df, test_df, left_index=True, right_index=True, how='right')\n",
    "    r = r.dropna()\n",
    "    r = r.astype(int)\n",
    "    actual_clusters = r.iloc[:,0].tolist()\n",
    "    predicted_clusters = r.iloc[:,1].tolist()    \n",
    "    \n",
    "    tp_plus_fp = comb(np.bincount(actual_clusters), 2).sum()\n",
    "    tp_plus_fn = comb(np.bincount(predicted_clusters), 2).sum()\n",
    "    A = np.c_[(actual_clusters, predicted_clusters)]\n",
    "    tp = sum(comb(np.bincount(A[A[:, 0] == i, 1]), 2).sum()\n",
    "             for i in set(actual_clusters))\n",
    "    fp = tp_plus_fp - tp\n",
    "    fn = tp_plus_fn - tp\n",
    "    tn = comb(len(A), 2) - tp - fp - fn\n",
    "    ri =  (tp + tn) / (tp + fp + fn + tn)\n",
    "    return ri"
   ]
  },
  {
   "cell_type": "code",
   "execution_count": 703,
   "metadata": {
    "collapsed": false
   },
   "outputs": [
    {
     "data": {
      "text/plain": [
       "0.99472997110442285"
      ]
     },
     "execution_count": 703,
     "metadata": {},
     "output_type": "execute_result"
    }
   ],
   "source": [
    "rand_index_score(actual_clusters, predicted_clusters)"
   ]
  },
  {
   "cell_type": "markdown",
   "metadata": {},
   "source": [
    "## Clustering the data captures during attack"
   ]
  },
  {
   "cell_type": "code",
   "execution_count": 713,
   "metadata": {
    "collapsed": true
   },
   "outputs": [],
   "source": [
    "attack_sample_dir_name = 'attack_samp'\n",
    "attack_sample_path = os.path.join(base_path, attack_sample_dir_name)\n",
    "attack_sample_train_path = os.path.join(base_path, attack_sample_dir_name+'_train')\n",
    "os.makedirs(attack_sample_train_path, exist_ok=True)\n",
    "attack_cluster_path = os.path.join(attack_sample_train_path, 'cluster')\n",
    "os.makedirs(attack_cluster_path, exist_ok=True)"
   ]
  },
  {
   "cell_type": "code",
   "execution_count": 714,
   "metadata": {
    "collapsed": true
   },
   "outputs": [],
   "source": [
    "files = sorted(glob.glob(os.path.join(attack_sample_path,'*')),  key=os.path.getmtime)\n",
    "merge_count = np.genfromtxt(os.path.join(base_path,'merge_count'))"
   ]
  },
  {
   "cell_type": "code",
   "execution_count": 715,
   "metadata": {
    "collapsed": false
   },
   "outputs": [
    {
     "data": {
      "text/plain": [
       "['converted/test3/attack_samp/1',\n",
       " 'converted/test3/attack_samp/2',\n",
       " 'converted/test3/attack_samp/3',\n",
       " 'converted/test3/attack_samp/4',\n",
       " 'converted/test3/attack_samp/5',\n",
       " 'converted/test3/attack_samp/6',\n",
       " 'converted/test3/attack_samp/7',\n",
       " 'converted/test3/attack_samp/8']"
      ]
     },
     "execution_count": 715,
     "metadata": {},
     "output_type": "execute_result"
    }
   ],
   "source": [
    "files"
   ]
  },
  {
   "cell_type": "code",
   "execution_count": 716,
   "metadata": {
    "collapsed": false
   },
   "outputs": [
    {
     "data": {
      "text/plain": [
       "6"
      ]
     },
     "execution_count": 716,
     "metadata": {},
     "output_type": "execute_result"
    }
   ],
   "source": [
    "int(merge_count)"
   ]
  },
  {
   "cell_type": "code",
   "execution_count": 740,
   "metadata": {
    "collapsed": true
   },
   "outputs": [],
   "source": [
    "centroids, features = read_centroid_features(centroid_filename, features_filename)"
   ]
  },
  {
   "cell_type": "code",
   "execution_count": 745,
   "metadata": {
    "collapsed": false
   },
   "outputs": [],
   "source": [
    "attack_dfs = merge_files(files, merge_count, features)"
   ]
  },
  {
   "cell_type": "code",
   "execution_count": 746,
   "metadata": {
    "collapsed": false
   },
   "outputs": [
    {
     "name": "stderr",
     "output_type": "stream",
     "text": [
      "/home/arpit/anaconda3/envs/py36/lib/python3.6/site-packages/sklearn/utils/validation.py:475: DataConversionWarning: Data with input dtype int64 was converted to float64 by StandardScaler.\n",
      "  warnings.warn(msg, DataConversionWarning)\n",
      "/home/arpit/anaconda3/envs/py36/lib/python3.6/site-packages/sklearn/cluster/k_means_.py:896: RuntimeWarning: Explicit initial center position passed: performing only one init in k-means instead of n_init=10\n",
      "  return_n_iter=True)\n"
     ]
    },
    {
     "data": {
      "image/png": "[encoded data removed]",
      "text/plain": [
       "<matplotlib.figure.Figure at 0x7fabb38bc400>"
      ]
     },
     "metadata": {},
     "output_type": "display_data"
    }
   ],
   "source": [
    "#Cluster all the samples and store them\n",
    "centroids, features = read_centroid_features(centroid_filename, features_filename)\n",
    "for i, attack_df in enumerate(attack_dfs):\n",
    "    clustered_df = kmeans_clustering(attack_df, centroids)\n",
    "    clustered_df.to_csv(os.path.join(attack_cluster_path,str(i+1)))"
   ]
  },
  {
   "cell_type": "code",
   "execution_count": 747,
   "metadata": {
    "collapsed": true
   },
   "outputs": [],
   "source": [
    "files = sorted(glob.glob(os.path.join(attack_cluster_path,'*')),  key=os.path.getmtime)\n",
    "df = pd.read_csv(files[0], index_col=0)"
   ]
  },
  {
   "cell_type": "code",
   "execution_count": 750,
   "metadata": {
    "collapsed": true
   },
   "outputs": [],
   "source": [
    "train_tag_filename = 'ip_cluster_tag_train'\n",
    "train_tag_file = os.path.join(base_path,train_tag_filename)\n",
    "train_df = df.from_csv(train_tag_file)"
   ]
  },
  {
   "cell_type": "code",
   "execution_count": 749,
   "metadata": {
    "collapsed": false
   },
   "outputs": [
    {
     "data": {
      "text/html": [
       "<div>\n",
       "<style>\n",
       "    .dataframe thead tr:only-child th {\n",
       "        text-align: right;\n",
       "    }\n",
       "\n",
       "    .dataframe thead th {\n",
       "        text-align: left;\n",
       "    }\n",
       "\n",
       "    .dataframe tbody tr th {\n",
       "        vertical-align: top;\n",
       "    }\n",
       "</style>\n",
       "<table border=\"1\" class=\"dataframe\">\n",
       "  <thead>\n",
       "    <tr style=\"text-align: right;\">\n",
       "      <th></th>\n",
       "      <th>1</th>\n",
       "      <th>6</th>\n",
       "      <th>17</th>\n",
       "      <th>cluster</th>\n",
       "    </tr>\n",
       "    <tr>\n",
       "      <th>ip</th>\n",
       "      <th></th>\n",
       "      <th></th>\n",
       "      <th></th>\n",
       "      <th></th>\n",
       "    </tr>\n",
       "  </thead>\n",
       "  <tbody>\n",
       "    <tr>\n",
       "      <th>1.22.16.143</th>\n",
       "      <td>0</td>\n",
       "      <td>4</td>\n",
       "      <td>0</td>\n",
       "      <td>0</td>\n",
       "    </tr>\n",
       "    <tr>\n",
       "      <th>101.0.32.121</th>\n",
       "      <td>0</td>\n",
       "      <td>6</td>\n",
       "      <td>0</td>\n",
       "      <td>0</td>\n",
       "    </tr>\n",
       "    <tr>\n",
       "      <th>109.200.239.148</th>\n",
       "      <td>0</td>\n",
       "      <td>4</td>\n",
       "      <td>0</td>\n",
       "      <td>0</td>\n",
       "    </tr>\n",
       "    <tr>\n",
       "      <th>109.200.240.44</th>\n",
       "      <td>0</td>\n",
       "      <td>2</td>\n",
       "      <td>0</td>\n",
       "      <td>0</td>\n",
       "    </tr>\n",
       "    <tr>\n",
       "      <th>111.253.202.95</th>\n",
       "      <td>0</td>\n",
       "      <td>12</td>\n",
       "      <td>0</td>\n",
       "      <td>0</td>\n",
       "    </tr>\n",
       "  </tbody>\n",
       "</table>\n",
       "</div>"
      ],
      "text/plain": [
       "                 1   6  17  cluster\n",
       "ip                                 \n",
       "1.22.16.143      0   4   0        0\n",
       "101.0.32.121     0   6   0        0\n",
       "109.200.239.148  0   4   0        0\n",
       "109.200.240.44   0   2   0        0\n",
       "111.253.202.95   0  12   0        0"
      ]
     },
     "execution_count": 749,
     "metadata": {},
     "output_type": "execute_result"
    }
   ],
   "source": [
    "df.head()"
   ]
  },
  {
   "cell_type": "code",
   "execution_count": null,
   "metadata": {
    "collapsed": true
   },
   "outputs": [],
   "source": [
    "for index, row in df.iterrows():\n",
    "    print(row['cluster'])\n",
    "    #Compare each ip data with the train cluster \n",
    "    # 1. Check if cluster is same then check if its inside the boundry usinf one class svm"
   ]
  }
 ],
 "metadata": {
  "anaconda-cloud": {},
  "kernelspec": {
   "display_name": "Python [py36]",
   "language": "python",
   "name": "Python [py36]"
  },
  "language_info": {
   "codemirror_mode": {
    "name": "ipython",
    "version": 3
   },
   "file_extension": ".py",
   "mimetype": "text/x-python",
   "name": "python",
   "nbconvert_exporter": "python",
   "pygments_lexer": "ipython3",
   "version": "3.6.3"
  }
 },
 "nbformat": 4,
 "nbformat_minor": 2
}
