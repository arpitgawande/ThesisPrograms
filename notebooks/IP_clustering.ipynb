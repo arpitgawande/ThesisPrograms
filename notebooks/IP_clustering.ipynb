{
 "cells": [
  {
   "cell_type": "code",
   "execution_count": 311,
   "metadata": {
    "collapsed": true
   },
   "outputs": [],
   "source": [
    "%matplotlib inline\n",
    "# Common Imports\n",
    "import numpy as np\n",
    "#Pandas for creating dataframes\n",
    "import pandas as pd\n",
    "#Sklearn\n",
    "from sklearn import preprocessing\n",
    "#K-means clustering algo\n",
    "from sklearn.cluster import KMeans\n",
    "#OS moduled for file oprations\n",
    "import os\n",
    "#CSV module\n",
    "import csv\n",
    "#Plotting\n",
    "import matplotlib.pyplot as plt\n",
    "import shutil"
   ]
  },
  {
   "cell_type": "code",
   "execution_count": 312,
   "metadata": {
    "collapsed": true
   },
   "outputs": [],
   "source": [
    "#Base Folder Paths\n",
    "base_folder_name = 'converted'\n",
    "test_folder_name = 'test3'\n",
    "base_path = os.path.join(base_folder_name, test_folder_name)\n",
    "#Normal Sample and cluster paths\n",
    "sample_dir_name = 'samp'\n",
    "sample_path = os.path.join(base_path, sample_dir_name)\n",
    "#If sample folder exist\n",
    "if os.path.isdir(sample_path):\n",
    "    #Test and Train data Folders\n",
    "    train_path = os.path.join(base_path, sample_dir_name+'_train')\n",
    "    os.makedirs(train_path, exist_ok=True)\n",
    "    test_path = os.path.join(base_path, sample_dir_name+'_test')\n",
    "    os.makedirs(test_path, exist_ok=True)\n",
    "    \n",
    "    train_cluster_path = os.path.join(train_path, 'cluster')\n",
    "    test_cluster_path = os.path.join(test_path, 'cluster')\n",
    "    os.makedirs(train_cluster_path, exist_ok=True)\n",
    "    os.makedirs(test_cluster_path, exist_ok=True)\n",
    "#Defining features\n",
    "features = [6,17] #(TCP:6, UDP:17)    "
   ]
  },
  {
   "cell_type": "code",
   "execution_count": 313,
   "metadata": {
    "collapsed": true
   },
   "outputs": [],
   "source": [
    "def get_feature_dataframe(sample_file, features):\n",
    "        df = pd.read_csv(sample_file, index_col=0)\n",
    "        #Filter Columns\n",
    "        df = df[['ip.dst', 'ip.proto', 'sniff_timestamp', 'sample']]\n",
    "        #Remove null destinations\n",
    "        df = df[df['ip.dst'].notnull()]\n",
    "        #Rename Columns\n",
    "        df.columns = ['ip', 'protocol', 'time_stamp', 'sample']\n",
    "        #Get count for each ip\n",
    "        df = df.groupby(['ip', 'protocol']).size().unstack().fillna(0).astype(int)\n",
    "        #Drop row for given IP\n",
    "        df = filter_ip(df, '147.32.84.165')\n",
    "        #Select TCP and UDP as only fetures (TCP:6, UDP:17)\n",
    "        df = df[features]\n",
    "        if(set(df.columns) != set(features)):\n",
    "            print(df.columns, features)\n",
    "            non_columns = set(features) - set(df.columns)\n",
    "            for c in non_columns:\n",
    "                df.insert(loc=features.index(c), column=c, value=0)\n",
    "        return df, sample_file"
   ]
  },
  {
   "cell_type": "code",
   "execution_count": 314,
   "metadata": {
    "collapsed": false
   },
   "outputs": [],
   "source": [
    "def filter_ip(df, ip_addr):\n",
    "    with open(os.path.join(base_path,\"filtered_ip_feture_vector\"), \"a+\") as f:\n",
    "        df.loc[ip_addr].to_csv(f, header=False)\n",
    "    df = df.drop([ip_addr])\n",
    "    return df    "
   ]
  },
  {
   "cell_type": "code",
   "execution_count": 315,
   "metadata": {
    "collapsed": false
   },
   "outputs": [],
   "source": [
    "filenames = sorted(glob.glob(os.path.join(sample_path,'*')),  key=os.path.getmtime)\n",
    "df, sample_file = get_feature_dataframe(filenames[0], features)"
   ]
  },
  {
   "cell_type": "code",
   "execution_count": 316,
   "metadata": {
    "collapsed": false
   },
   "outputs": [
    {
     "data": {
      "text/html": [
       "<div>\n",
       "<style>\n",
       "    .dataframe thead tr:only-child th {\n",
       "        text-align: right;\n",
       "    }\n",
       "\n",
       "    .dataframe thead th {\n",
       "        text-align: left;\n",
       "    }\n",
       "\n",
       "    .dataframe tbody tr th {\n",
       "        vertical-align: top;\n",
       "    }\n",
       "</style>\n",
       "<table border=\"1\" class=\"dataframe\">\n",
       "  <thead>\n",
       "    <tr style=\"text-align: right;\">\n",
       "      <th>protocol</th>\n",
       "      <th>6</th>\n",
       "      <th>17</th>\n",
       "    </tr>\n",
       "    <tr>\n",
       "      <th>ip</th>\n",
       "      <th></th>\n",
       "      <th></th>\n",
       "    </tr>\n",
       "  </thead>\n",
       "  <tbody>\n",
       "    <tr>\n",
       "      <th>147.32.80.9</th>\n",
       "      <td>0</td>\n",
       "      <td>14</td>\n",
       "    </tr>\n",
       "    <tr>\n",
       "      <th>147.32.84.255</th>\n",
       "      <td>0</td>\n",
       "      <td>50</td>\n",
       "    </tr>\n",
       "    <tr>\n",
       "      <th>195.88.191.59</th>\n",
       "      <td>2</td>\n",
       "      <td>0</td>\n",
       "    </tr>\n",
       "    <tr>\n",
       "      <th>224.0.0.22</th>\n",
       "      <td>0</td>\n",
       "      <td>0</td>\n",
       "    </tr>\n",
       "    <tr>\n",
       "      <th>239.255.255.250</th>\n",
       "      <td>0</td>\n",
       "      <td>6</td>\n",
       "    </tr>\n",
       "  </tbody>\n",
       "</table>\n",
       "</div>"
      ],
      "text/plain": [
       "protocol         6   17\n",
       "ip                     \n",
       "147.32.80.9       0  14\n",
       "147.32.84.255     0  50\n",
       "195.88.191.59     2   0\n",
       "224.0.0.22        0   0\n",
       "239.255.255.250   0   6"
      ]
     },
     "execution_count": 316,
     "metadata": {},
     "output_type": "execute_result"
    }
   ],
   "source": [
    "df.head()"
   ]
  },
  {
   "cell_type": "code",
   "execution_count": 317,
   "metadata": {
    "collapsed": false
   },
   "outputs": [],
   "source": [
    "def create_train_test(sample_path, features):\n",
    "    count = 0; train_dfs = []; test_dfs = []\n",
    "    filenames = sorted(glob.glob(os.path.join(sample_path,'*')),  key=os.path.getmtime)\n",
    "    file_count = len(filenames)\n",
    "    #Split train and test Train size 80% of data and 20% (1/5 th) is test\n",
    "    reminder = file_count%5\n",
    "    #Number of files to be combined to form one train/test data\n",
    "    merge_count = int((file_count - reminder) / 5)\n",
    "    train_files = filenames[:merge_count*4]\n",
    "    test_files = filenames[merge_count*4:]\n",
    "    #print(train_files)\n",
    "    #print(test_files)\n",
    "    for i, filename in enumerate(train_files, 1):\n",
    "        if count == 0:\n",
    "            df, sample_file = get_feature_dataframe(filename, features)\n",
    "            count += 1\n",
    "        else:\n",
    "            temp_df, sample_file = get_feature_dataframe(filename, features)\n",
    "            df = df.append(temp_df)\n",
    "            count += 1\n",
    "        if count == merge_count:\n",
    "            df = df.groupby(df.index).sum() #Combine data of same IP address\n",
    "            train_dfs.append(df)\n",
    "            count = 0\n",
    "    \n",
    "    for i, filename in enumerate(test_files, 1):\n",
    "        if count == 0:\n",
    "            df, sample_file = get_feature_dataframe(filename, features)\n",
    "            count += 1\n",
    "        else:\n",
    "            temp_df, sample_file = get_feature_dataframe(filename, features)\n",
    "            df = df.append(temp_df)\n",
    "            count += 1\n",
    "        if count == merge_count:\n",
    "            df = df.groupby(df.index).sum() #Combine data of same IP address\n",
    "            test_dfs.append(df)       \n",
    "    return train_dfs, test_dfs"
   ]
  },
  {
   "cell_type": "code",
   "execution_count": 318,
   "metadata": {
    "collapsed": false
   },
   "outputs": [],
   "source": [
    "train_dfs, test_dfs = create_train_test(sample_path, features)"
   ]
  },
  {
   "cell_type": "code",
   "execution_count": 319,
   "metadata": {
    "collapsed": false
   },
   "outputs": [],
   "source": [
    "#train_dfs[0]"
   ]
  },
  {
   "cell_type": "code",
   "execution_count": 320,
   "metadata": {
    "collapsed": false
   },
   "outputs": [],
   "source": [
    "#Write train and test data to file\n",
    "train_files = []\n",
    "for i, df in enumerate(train_dfs, 1):\n",
    "    train_file = os.path.join(train_path,str(i))\n",
    "    df.to_csv(train_file)\n",
    "    train_files.append(train_file)\n",
    "test_files = []    \n",
    "for i, df in enumerate(test_dfs, 1):\n",
    "    test_file = os.path.join(test_path,str(i))\n",
    "    df.to_csv(test_file)\n",
    "    test_files.append(test_file)"
   ]
  },
  {
   "cell_type": "code",
   "execution_count": 321,
   "metadata": {
    "collapsed": true
   },
   "outputs": [],
   "source": [
    "from sklearn.cluster import KMeans\n",
    "#Find optimal number of clusters for k-means clustering using elbow method.\n",
    "def elbow_method(X_trans):\n",
    "    elbow_count = 0\n",
    "    range_val = 10\n",
    "    nc = range(1, range_val)\n",
    "    kmeans = [KMeans(n_clusters=i) for i in nc]\n",
    "    score = [kmeans[i].fit(X_trans).score(X_trans) for i in range(len(kmeans))]\n",
    "    total_diff = abs(score[0] - score[len(score) -1])\n",
    "    for i in range(range_val - 2):\n",
    "        percent_diff = abs(score[i] - score[i+1])/total_diff\n",
    "        if percent_diff < 0.01:\n",
    "            opt_clust_count = i\n",
    "            break\n",
    "#     plt.plot(nc,score)\n",
    "#     plt.xlabel('Number of Clusters')\n",
    "#     plt.ylabel('Score')\n",
    "#     plt.title('Elbow Curve')\n",
    "#     plt.show()\n",
    "    return opt_clust_count"
   ]
  },
  {
   "cell_type": "code",
   "execution_count": 322,
   "metadata": {
    "collapsed": false
   },
   "outputs": [],
   "source": [
    "#Apply elbow method on all the samples and get their mean\n",
    "def get_optimal_cluster_count(df_list):\n",
    "    elbow_vals = []\n",
    "    for df in df_list:\n",
    "        X = df.values\n",
    "        #Create scaling\n",
    "        scaler = preprocessing.StandardScaler().fit(X)\n",
    "        #Transform Traning data\n",
    "        X_trans = scaler.transform(X)\n",
    "        elbow = elbow_method(X_trans)\n",
    "        elbow_vals.append(elbow)\n",
    "    return int(np.floor(np.mean(elbow_vals)))"
   ]
  },
  {
   "cell_type": "code",
   "execution_count": 323,
   "metadata": {
    "collapsed": false
   },
   "outputs": [
    {
     "name": "stderr",
     "output_type": "stream",
     "text": [
      "/home/arpit/anaconda3/envs/py36/lib/python3.6/site-packages/sklearn/utils/validation.py:475: DataConversionWarning: Data with input dtype int64 was converted to float64 by StandardScaler.\n",
      "  warnings.warn(msg, DataConversionWarning)\n"
     ]
    }
   ],
   "source": [
    "cluster_count = get_optimal_cluster_count(train_dfs)"
   ]
  },
  {
   "cell_type": "code",
   "execution_count": 324,
   "metadata": {
    "collapsed": false
   },
   "outputs": [
    {
     "data": {
      "text/plain": [
       "4"
      ]
     },
     "execution_count": 324,
     "metadata": {},
     "output_type": "execute_result"
    }
   ],
   "source": [
    "cluster_count"
   ]
  },
  {
   "cell_type": "code",
   "execution_count": 325,
   "metadata": {
    "collapsed": true
   },
   "outputs": [],
   "source": [
    "# Calculating Eigenvectors and eigenvalues of Cov matirx\n",
    "def PCA_component_analysis(X_std):\n",
    "    mean_vec = np.mean(X_std, axis=0)\n",
    "    cov_mat = np.cov(X_std.T)\n",
    "    eig_vals, eig_vecs = np.linalg.eig(cov_mat)\n",
    "\n",
    "    # Create a list of (eigenvalue, eigenvector) tuples\n",
    "    eig_pairs = [ (np.abs(eig_vals[i]),eig_vecs[:,i]) for i in range(len(eig_vals))]\n",
    "\n",
    "    # # Sort from high to low\n",
    "    eig_pairs.sort(key = lambda x: x[0], reverse= True)\n",
    "\n",
    "    # Calculation of Explained Variance from the eigenvalues\n",
    "    tot = sum(eig_vals)\n",
    "    var_exp = [(i/tot)*100 for i in sorted(eig_vals, reverse=True)] # Individual explained variance\n",
    "    cum_var_exp = np.cumsum(var_exp) # Cumulative explained variance\n",
    "\n",
    "    # PLOT OUT THE EXPLAINED VARIANCES SUPERIMPOSED \n",
    "    plt.figure(figsize=(10, 5))\n",
    "    plt.bar(range(9), var_exp, alpha=0.3333, align='center', label='individual explained variance', color = 'g')\n",
    "    plt.step(range(9), cum_var_exp, where='mid',label='cumulative explained variance')\n",
    "    plt.ylabel('Explained variance ratio')\n",
    "    plt.xlabel('Principal components')\n",
    "    plt.legend(loc='best')\n",
    "    plt.show()"
   ]
  },
  {
   "cell_type": "code",
   "execution_count": 326,
   "metadata": {
    "collapsed": true
   },
   "outputs": [],
   "source": [
    "def get_kmeans_centroid(feature_df, cluster_count):\n",
    "    \"\"\" \n",
    "    X: feature vector \n",
    "    cluster_count: Number of clusters to be used for k-means\n",
    "    \"\"\"\n",
    "    df_centroid = {}\n",
    "    X = feature_df.values\n",
    "    #Create scaling\n",
    "    scaler = preprocessing.StandardScaler().fit(X)\n",
    "    #Transform Traning data\n",
    "    X_trans = scaler.transform(X)\n",
    "    #Data Fitting using K-means\n",
    "    kmeans = KMeans(n_clusters=cluster_count)\n",
    "    kmeans.fit(X_trans)\n",
    "    #Insert cluster center to its corrosposnding dataframe each dataframe.\n",
    "    #Dataframe 0 contain all the clusters centers associated with 0th cluster\n",
    "    first = True\n",
    "    for i in range(kmeans.cluster_centers_.shape[0]):\n",
    "        s = pd.Series(kmeans.cluster_centers_[i], index=feature_df.columns)\n",
    "        if(first):\n",
    "            df_centroid = pd.DataFrame(columns=feature_df.columns)\n",
    "            first = False\n",
    "        df_centroid = df_centroid.append(s,ignore_index=True)\n",
    "    return df_centroid"
   ]
  },
  {
   "cell_type": "code",
   "execution_count": 327,
   "metadata": {
    "collapsed": false
   },
   "outputs": [],
   "source": [
    "#Find the median of all the centroid which will be better estimate of the centroid for all future k-means clustering\n",
    "def kmeans_common_create_centroids(sample_frames, features, cluster_count, centroid_filename, features_filename):\n",
    "    \"\"\"\n",
    "    sample_frames: list of feature vector datafames\n",
    "    centroid_filename: File in which centroid has to be stored for future analyasis\n",
    "    features_filename: File in which feature list will be stored\n",
    "    \"\"\"\n",
    "    df_concat = pd.DataFrame(columns=features)\n",
    "    for df in sample_frames:\n",
    "        #Run kmeans and get centroid\n",
    "        df_centroid = get_kmeans_centroid(df, cluster_count)\n",
    "        #Create list of centroids\n",
    "        df_concat = df_concat.append(df_centroid)\n",
    "    centroids = []\n",
    "    #Find median for each centroid and store them in file\n",
    "    for c in range(cluster_count):\n",
    "        med = np.median(df_concat.loc[c], axis=0) # e.g. df_concat.loc[0] is df of clister 0\n",
    "        centroids.append(med)\n",
    "    #Save centroids and features in files for future use\n",
    "    np.savetxt(os.path.join(base_path, centroid_filename), np.asarray(centroids), delimiter=\",\")\n",
    "    np.savetxt(os.path.join(base_path, features_filename), np.asarray(list(features)), delimiter=\",\")\n",
    "    return centroids, features"
   ]
  },
  {
   "cell_type": "code",
   "execution_count": 328,
   "metadata": {
    "collapsed": false
   },
   "outputs": [
    {
     "name": "stderr",
     "output_type": "stream",
     "text": [
      "/home/arpit/anaconda3/envs/py36/lib/python3.6/site-packages/sklearn/utils/validation.py:475: DataConversionWarning: Data with input dtype int64 was converted to float64 by StandardScaler.\n",
      "  warnings.warn(msg, DataConversionWarning)\n"
     ]
    },
    {
     "data": {
      "text/plain": [
       "([array([-0.05484402, -0.07208976]),\n",
       "  array([ 15.21015284,  -0.12229021]),\n",
       "  array([ -0.141429  ,  20.45665207]),\n",
       "  array([-0.11294475,  5.36018905])],\n",
       " [6, 17])"
      ]
     },
     "execution_count": 328,
     "metadata": {},
     "output_type": "execute_result"
    }
   ],
   "source": [
    "#File to store centroids\n",
    "centroid_filename = 'centroids.csv'\n",
    "#File to store feature list\n",
    "features_filename = 'features.csv'\n",
    "#Call to find median of centroid\n",
    "kmeans_common_create_centroids(train_dfs, features, cluster_count, centroid_filename, features_filename)"
   ]
  },
  {
   "cell_type": "code",
   "execution_count": 329,
   "metadata": {
    "collapsed": true
   },
   "outputs": [],
   "source": [
    "#Get centroids and feature from the files\n",
    "def read_centroid_features(centroid_filename, features_filename):\n",
    "    centroids = np.genfromtxt(os.path.join(base_path,centroid_filename), delimiter=',')\n",
    "    features = np.genfromtxt(os.path.join(base_path,features_filename), delimiter=',')\n",
    "    return centroids, features"
   ]
  },
  {
   "cell_type": "code",
   "execution_count": 330,
   "metadata": {
    "collapsed": false
   },
   "outputs": [],
   "source": [
    "from sklearn.decomposition import PCA\n",
    "def draw_clusters(X, centroids, kmeans):\n",
    "    #Use PCA component analysis for visuals\n",
    "    if X.shape[1] > 2:\n",
    "        reduced_X = PCA(n_components=2).fit_transform(X)\n",
    "    else:\n",
    "        reduced_X = X\n",
    "   \n",
    "    # Step size of the mesh. Decrease to increase the quality of the VQ.\n",
    "    h = .01     # point in the mesh [x_min, x_max]x[y_min, y_max].\n",
    "\n",
    "    # Plot the decision boundary. For that, we will assign a color to each\n",
    "    x_min, x_max = reduced_X[:, 0].min() - 1, reduced_X[:, 0].max() + 1\n",
    "    y_min, y_max = reduced_X[:, 1].min() - 1, reduced_X[:, 1].max() + 1\n",
    "    xx, yy = np.meshgrid(np.arange(x_min, x_max, h), np.arange(y_min, y_max, h))\n",
    "\n",
    "    # Obtain labels for each point in mesh. Use last trained model.\n",
    "    Z = kmeans.predict(np.c_[xx.ravel(), yy.ravel()])\n",
    "\n",
    "    # Put the result into a color plot\n",
    "    Z = Z.reshape(xx.shape)\n",
    "    plt.imshow(Z, interpolation='nearest',\n",
    "               extent=(xx.min(), xx.max(), yy.min(), yy.max()),\n",
    "               cmap=plt.cm.Paired,\n",
    "               aspect='auto', origin='lower')   \n",
    "    #Plot the data points (PCA reduced components)\n",
    "    plt.plot(reduced_X[:,0],reduced_X[:,1],  'k.', markersize=3) \n",
    "    plt.scatter(centroids[:, 0], centroids[:, 1], marker='x', s=169, linewidths=3, color='w', zorder=10)\n",
    "    plt.title('K-means clustering with (PCA-reduced data)')\n",
    "    plt.xlim(x_min, x_max)\n",
    "    plt.ylim(y_min, y_max)\n",
    "    plt.xticks(())\n",
    "    plt.yticks(())\n",
    "    plt.show()"
   ]
  },
  {
   "cell_type": "code",
   "execution_count": 331,
   "metadata": {
    "collapsed": true
   },
   "outputs": [],
   "source": [
    "def kmeans_clustering(feature_df, centroids):\n",
    "    X = feature_df.values\n",
    "    #Create scaling\n",
    "    scaler = preprocessing.StandardScaler().fit(X)\n",
    "    #Transform Traning data\n",
    "    X_trans = scaler.transform(X)\n",
    "    #k means clustering using provided centroids \n",
    "    kmeans = KMeans(n_clusters=centroids.shape[0], init=centroids)\n",
    "    clusters = kmeans.fit_predict(X_trans)\n",
    "    #Plot clusters and data using PCA component analysis\n",
    "    draw_clusters(X_trans, centroids, kmeans)\n",
    "    #Getting the labels/clusters and distances of each IP from centroid\n",
    "    cluster_df = pd.DataFrame({'cluster': kmeans.labels_})\n",
    "    #Attaching label and distance to existing df and write new dataframe to file\n",
    "    df = pd.concat([feature_df.reset_index(), cluster_df], axis=1).set_index('ip')\n",
    "    return df"
   ]
  },
  {
   "cell_type": "code",
   "execution_count": 332,
   "metadata": {
    "collapsed": false
   },
   "outputs": [
    {
     "name": "stderr",
     "output_type": "stream",
     "text": [
      "/home/arpit/anaconda3/envs/py36/lib/python3.6/site-packages/sklearn/utils/validation.py:475: DataConversionWarning: Data with input dtype int64 was converted to float64 by StandardScaler.\n",
      "  warnings.warn(msg, DataConversionWarning)\n",
      "/home/arpit/anaconda3/envs/py36/lib/python3.6/site-packages/sklearn/cluster/k_means_.py:896: RuntimeWarning: Explicit initial center position passed: performing only one init in k-means instead of n_init=10\n",
      "  return_n_iter=True)\n"
     ]
    },
    {
     "data": {
      "image/png": "[encoded data removed]",
      "text/plain": [
       "<matplotlib.figure.Figure at 0x7fabc0f48978>"
      ]
     },
     "metadata": {},
     "output_type": "display_data"
    },
    {
     "data": {
      "image/png": "[encoded data removed]",
      "text/plain": [
       "<matplotlib.figure.Figure at 0x7fabc82c85f8>"
      ]
     },
     "metadata": {},
     "output_type": "display_data"
    },
    {
     "data": {
      "image/png": "[encoded data removed]",
      "text/plain": [
       "<matplotlib.figure.Figure at 0x7fabc0e2d470>"
      ]
     },
     "metadata": {},
     "output_type": "display_data"
    },
    {
     "data": {
      "image/png": "[encoded data removed]",
      "text/plain": [
       "<matplotlib.figure.Figure at 0x7fabc89c8f60>"
      ]
     },
     "metadata": {},
     "output_type": "display_data"
    },
    {
     "data": {
      "image/png": "[encoded data removed]",
      "text/plain": [
       "<matplotlib.figure.Figure at 0x7fabc048e128>"
      ]
     },
     "metadata": {},
     "output_type": "display_data"
    }
   ],
   "source": [
    "#Cluster all the samples and store them\n",
    "centroids, features = read_centroid_features(centroid_filename, features_filename)\n",
    "for i, train_df in enumerate(train_dfs):\n",
    "    clustered_df = kmeans_clustering(train_df, centroids)\n",
    "    clustered_df.to_csv(os.path.join(train_cluster_path,str(i+1)))\n",
    "for i, test_df in enumerate(test_dfs):\n",
    "    clustered_df = kmeans_clustering(test_df, centroids)\n",
    "    clustered_df.to_csv(os.path.join(test_cluster_path,str(i+1)))    "
   ]
  },
  {
   "cell_type": "code",
   "execution_count": 218,
   "metadata": {
    "collapsed": false
   },
   "outputs": [
    {
     "name": "stdout",
     "output_type": "stream",
     "text": [
      "[[ -0.08534303  -0.05546653]\n",
      " [ -0.11294475  20.45665207]\n",
      " [ 14.88156061  -0.10197929]\n",
      " [ -0.07684554   2.36481097]]\n"
     ]
    }
   ],
   "source": [
    "print(centroids)"
   ]
  },
  {
   "cell_type": "code",
   "execution_count": 333,
   "metadata": {
    "collapsed": true
   },
   "outputs": [],
   "source": [
    "def get_combined_df(cluster_path):\n",
    "    cluster_dict = dict()\n",
    "    filenames = sorted(glob.glob(os.path.join(cluster_path,'*')),  key=os.path.getmtime)\n",
    "    first = True\n",
    "    for filename in filenames:\n",
    "        if first:\n",
    "            df = pd.read_csv(filename, index_col=0)\n",
    "            first = False\n",
    "        else:\n",
    "            temp_df = pd.read_csv(filename, index_col=0)\n",
    "            df = df.append(temp_df) \n",
    "    df = df.reset_index().set_index(['ip'])\n",
    "    return df"
   ]
  },
  {
   "cell_type": "code",
   "execution_count": 466,
   "metadata": {
    "collapsed": true
   },
   "outputs": [],
   "source": [
    "dfc = get_combined_df(train_cluster_path)"
   ]
  },
  {
   "cell_type": "code",
   "execution_count": 467,
   "metadata": {
    "collapsed": false
   },
   "outputs": [],
   "source": [
    "duplicates = dfc.loc[dfc.index.duplicated()]"
   ]
  },
  {
   "cell_type": "code",
   "execution_count": 468,
   "metadata": {
    "collapsed": true
   },
   "outputs": [],
   "source": [
    "nonduplicates = dfc.loc[~dfc.index.duplicated()]"
   ]
  },
  {
   "cell_type": "code",
   "execution_count": 469,
   "metadata": {
    "collapsed": false
   },
   "outputs": [
    {
     "data": {
      "text/plain": [
       "((670, 3), (1734, 3), (2404, 3))"
      ]
     },
     "execution_count": 469,
     "metadata": {},
     "output_type": "execute_result"
    }
   ],
   "source": [
    "duplicates.shape, nonduplicates.shape, dfc.shape"
   ]
  },
  {
   "cell_type": "code",
   "execution_count": 485,
   "metadata": {
    "collapsed": false
   },
   "outputs": [
    {
     "data": {
      "text/plain": [
       "(1734,)"
      ]
     },
     "execution_count": 485,
     "metadata": {},
     "output_type": "execute_result"
    }
   ],
   "source": [
    "nonduplicates.sum(axis=1).shape"
   ]
  },
  {
   "cell_type": "code",
   "execution_count": 470,
   "metadata": {
    "collapsed": false
   },
   "outputs": [
    {
     "data": {
      "text/html": [
       "<div>\n",
       "<style>\n",
       "    .dataframe thead tr:only-child th {\n",
       "        text-align: right;\n",
       "    }\n",
       "\n",
       "    .dataframe thead th {\n",
       "        text-align: left;\n",
       "    }\n",
       "\n",
       "    .dataframe tbody tr th {\n",
       "        vertical-align: top;\n",
       "    }\n",
       "</style>\n",
       "<table border=\"1\" class=\"dataframe\">\n",
       "  <thead>\n",
       "    <tr style=\"text-align: right;\">\n",
       "      <th></th>\n",
       "      <th>6</th>\n",
       "      <th>17</th>\n",
       "      <th>cluster</th>\n",
       "    </tr>\n",
       "    <tr>\n",
       "      <th>ip</th>\n",
       "      <th></th>\n",
       "      <th></th>\n",
       "      <th></th>\n",
       "    </tr>\n",
       "  </thead>\n",
       "  <tbody>\n",
       "    <tr>\n",
       "      <th>109.200.240.44</th>\n",
       "      <td>2</td>\n",
       "      <td>0</td>\n",
       "      <td>0</td>\n",
       "    </tr>\n",
       "    <tr>\n",
       "      <th>109.200.240.44</th>\n",
       "      <td>4</td>\n",
       "      <td>0</td>\n",
       "      <td>0</td>\n",
       "    </tr>\n",
       "  </tbody>\n",
       "</table>\n",
       "</div>"
      ],
      "text/plain": [
       "                6  17  cluster\n",
       "ip                            \n",
       "109.200.240.44  2   0        0\n",
       "109.200.240.44  4   0        0"
      ]
     },
     "execution_count": 470,
     "metadata": {},
     "output_type": "execute_result"
    }
   ],
   "source": [
    "dfc.loc['109.200.240.44']"
   ]
  },
  {
   "cell_type": "code",
   "execution_count": 471,
   "metadata": {
    "collapsed": true
   },
   "outputs": [],
   "source": [
    "df = dfc.loc['109.200.240.44']"
   ]
  },
  {
   "cell_type": "code",
   "execution_count": 473,
   "metadata": {
    "collapsed": false
   },
   "outputs": [],
   "source": [
    "packet_count = duplicates[['6','17']].groupby('ip').mean().sum(axis=1).astype('int64')"
   ]
  },
  {
   "cell_type": "code",
   "execution_count": 474,
   "metadata": {
    "collapsed": false
   },
   "outputs": [
    {
     "data": {
      "text/plain": [
       "ip\n",
       "109.200.239.148     4\n",
       "109.200.240.44      4\n",
       "109.70.26.36       26\n",
       "111.253.202.95      6\n",
       "111.88.1.3          2\n",
       "dtype: int64"
      ]
     },
     "execution_count": 474,
     "metadata": {},
     "output_type": "execute_result"
    }
   ],
   "source": [
    "packet_count.head()"
   ]
  },
  {
   "cell_type": "code",
   "execution_count": 477,
   "metadata": {
    "collapsed": false
   },
   "outputs": [],
   "source": [
    "cluster = duplicates[['cluster']].groupby('ip').median().astype('int64')"
   ]
  },
  {
   "cell_type": "code",
   "execution_count": 482,
   "metadata": {
    "collapsed": false
   },
   "outputs": [
    {
     "data": {
      "text/plain": [
       "((475, 1), (475,))"
      ]
     },
     "execution_count": 482,
     "metadata": {},
     "output_type": "execute_result"
    }
   ],
   "source": [
    "cluster.shape, packet_count.shape"
   ]
  },
  {
   "cell_type": "code",
   "execution_count": 493,
   "metadata": {
    "collapsed": false
   },
   "outputs": [],
   "source": [
    "combineddf = pd.concat([packet_count, cluster], axis=1)"
   ]
  },
  {
   "cell_type": "code",
   "execution_count": null,
   "metadata": {
    "collapsed": true
   },
   "outputs": [],
   "source": []
  },
  {
   "cell_type": "code",
   "execution_count": 417,
   "metadata": {
    "collapsed": false
   },
   "outputs": [],
   "source": [
    "dm['cluster'] = pd.Series([0,0,0,0,0,0,0,20], index=dm.index)"
   ]
  },
  {
   "cell_type": "code",
   "execution_count": 418,
   "metadata": {
    "collapsed": false
   },
   "outputs": [
    {
     "data": {
      "text/html": [
       "<div>\n",
       "<style>\n",
       "    .dataframe thead tr:only-child th {\n",
       "        text-align: right;\n",
       "    }\n",
       "\n",
       "    .dataframe thead th {\n",
       "        text-align: left;\n",
       "    }\n",
       "\n",
       "    .dataframe tbody tr th {\n",
       "        vertical-align: top;\n",
       "    }\n",
       "</style>\n",
       "<table border=\"1\" class=\"dataframe\">\n",
       "  <thead>\n",
       "    <tr style=\"text-align: right;\">\n",
       "      <th></th>\n",
       "      <th>cluster</th>\n",
       "    </tr>\n",
       "    <tr>\n",
       "      <th>ip</th>\n",
       "      <th></th>\n",
       "    </tr>\n",
       "  </thead>\n",
       "  <tbody>\n",
       "    <tr>\n",
       "      <th>109.200.240.44</th>\n",
       "      <td>0</td>\n",
       "    </tr>\n",
       "    <tr>\n",
       "      <th>109.200.240.44</th>\n",
       "      <td>0</td>\n",
       "    </tr>\n",
       "    <tr>\n",
       "      <th>109.200.240.44</th>\n",
       "      <td>0</td>\n",
       "    </tr>\n",
       "    <tr>\n",
       "      <th>109.200.240.44</th>\n",
       "      <td>0</td>\n",
       "    </tr>\n",
       "    <tr>\n",
       "      <th>109.200.240.44</th>\n",
       "      <td>0</td>\n",
       "    </tr>\n",
       "    <tr>\n",
       "      <th>109.200.240.44</th>\n",
       "      <td>0</td>\n",
       "    </tr>\n",
       "    <tr>\n",
       "      <th>109.200.240.44</th>\n",
       "      <td>0</td>\n",
       "    </tr>\n",
       "    <tr>\n",
       "      <th>109.200.240.44</th>\n",
       "      <td>20</td>\n",
       "    </tr>\n",
       "  </tbody>\n",
       "</table>\n",
       "</div>"
      ],
      "text/plain": [
       "                cluster\n",
       "ip                     \n",
       "109.200.240.44        0\n",
       "109.200.240.44        0\n",
       "109.200.240.44        0\n",
       "109.200.240.44        0\n",
       "109.200.240.44        0\n",
       "109.200.240.44        0\n",
       "109.200.240.44        0\n",
       "109.200.240.44       20"
      ]
     },
     "execution_count": 418,
     "metadata": {},
     "output_type": "execute_result"
    }
   ],
   "source": [
    "dm"
   ]
  },
  {
   "cell_type": "code",
   "execution_count": 419,
   "metadata": {
    "collapsed": false
   },
   "outputs": [
    {
     "data": {
      "text/html": [
       "<div>\n",
       "<style>\n",
       "    .dataframe thead tr:only-child th {\n",
       "        text-align: right;\n",
       "    }\n",
       "\n",
       "    .dataframe thead th {\n",
       "        text-align: left;\n",
       "    }\n",
       "\n",
       "    .dataframe tbody tr th {\n",
       "        vertical-align: top;\n",
       "    }\n",
       "</style>\n",
       "<table border=\"1\" class=\"dataframe\">\n",
       "  <thead>\n",
       "    <tr style=\"text-align: right;\">\n",
       "      <th></th>\n",
       "      <th>cluster</th>\n",
       "    </tr>\n",
       "    <tr>\n",
       "      <th>ip</th>\n",
       "      <th></th>\n",
       "    </tr>\n",
       "  </thead>\n",
       "  <tbody>\n",
       "    <tr>\n",
       "      <th>109.200.240.44</th>\n",
       "      <td>0</td>\n",
       "    </tr>\n",
       "  </tbody>\n",
       "</table>\n",
       "</div>"
      ],
      "text/plain": [
       "                cluster\n",
       "ip                     \n",
       "109.200.240.44        0"
      ]
     },
     "execution_count": 419,
     "metadata": {},
     "output_type": "execute_result"
    }
   ],
   "source": [
    "dm[['cluster']].groupby('ip').median()"
   ]
  },
  {
   "cell_type": "code",
   "execution_count": 411,
   "metadata": {
    "collapsed": false
   },
   "outputs": [
    {
     "data": {
      "text/plain": [
       "1"
      ]
     },
     "execution_count": 411,
     "metadata": {},
     "output_type": "execute_result"
    }
   ],
   "source": [
    "int(1.5)"
   ]
  },
  {
   "cell_type": "code",
   "execution_count": 219,
   "metadata": {
    "collapsed": false
   },
   "outputs": [],
   "source": [
    "#For a given IP address find how many time a given cluster it was assigned to.\n",
    "from itertools import groupby\n",
    "def get_IP_cluster_count_dict(cluster_path):    \n",
    "    ip_dict = dict()\n",
    "    filenames = glob.glob(os.path.join(cluster_path,'*'))\n",
    "    for filename in filenames:\n",
    "        with open(filename, newline='') as csvfile:\n",
    "            reader = csv.DictReader(csvfile)\n",
    "            for row in reader:\n",
    "                if row['ip'] in ip_dict:\n",
    "                    #print(row['ip'],ip_dict[row['ip']])\n",
    "                    ip_dict[row['ip']] = ip_dict[row['ip']] + [row['cluster']]\n",
    "                else:\n",
    "                    ip_dict[row['ip']] = [row['cluster']]\n",
    "    #Find how many time IP was assigned to a given cluster\n",
    "    ip_cluster_dict = dict()\n",
    "    for key, value in ip_dict.items():\n",
    "        ip_cluster_dict[key] = {k: len(list(group)) for k, group in groupby(value)}\n",
    "    return ip_cluster_dict"
   ]
  },
  {
   "cell_type": "code",
   "execution_count": 220,
   "metadata": {
    "collapsed": false
   },
   "outputs": [],
   "source": [
    "ip_cluster_dict = get_IP_cluster_count_dict(cluster_path)"
   ]
  },
  {
   "cell_type": "code",
   "execution_count": 221,
   "metadata": {
    "collapsed": false
   },
   "outputs": [],
   "source": [
    "#ip_cluster_dict"
   ]
  },
  {
   "cell_type": "code",
   "execution_count": 222,
   "metadata": {
    "collapsed": true
   },
   "outputs": [],
   "source": [
    "def tag_ip_with_cluster(ip_cluster_dict):\n",
    "    df = pd.DataFrame(columns=['ip','cluster'])\n",
    "    for ip, clusters in ip_cluster_dict.items():\n",
    "        if len(clusters) == 1:\n",
    "            clust = list(clusters.keys())[0]\n",
    "        else:\n",
    "            mx = 0\n",
    "            clust = 0\n",
    "            for cluster, count in clusters.items():\n",
    "                if count > mx:\n",
    "                    mx = count\n",
    "                    clust = cluster\n",
    "        df = df.append(pd.Series([ip, clust], index=df.columns), ignore_index=True)\n",
    "    df = df.set_index('ip')\n",
    "    return df"
   ]
  },
  {
   "cell_type": "code",
   "execution_count": 223,
   "metadata": {
    "collapsed": false
   },
   "outputs": [],
   "source": [
    "df = tag_ip_with_cluster(ip_cluster_dict)\n",
    "tag_filename = 'ip_cluster_tag_test'\n",
    "tag_file = os.path.join(base_path,tag_filename)\n",
    "df.to_csv(tag_file)"
   ]
  },
  {
   "cell_type": "code",
   "execution_count": 224,
   "metadata": {
    "collapsed": false
   },
   "outputs": [
    {
     "data": {
      "text/html": [
       "<div>\n",
       "<style>\n",
       "    .dataframe thead tr:only-child th {\n",
       "        text-align: right;\n",
       "    }\n",
       "\n",
       "    .dataframe thead th {\n",
       "        text-align: left;\n",
       "    }\n",
       "\n",
       "    .dataframe tbody tr th {\n",
       "        vertical-align: top;\n",
       "    }\n",
       "</style>\n",
       "<table border=\"1\" class=\"dataframe\">\n",
       "  <thead>\n",
       "    <tr style=\"text-align: right;\">\n",
       "      <th></th>\n",
       "      <th>cluster</th>\n",
       "    </tr>\n",
       "    <tr>\n",
       "      <th>ip</th>\n",
       "      <th></th>\n",
       "    </tr>\n",
       "  </thead>\n",
       "  <tbody>\n",
       "    <tr>\n",
       "      <th>101.0.32.121</th>\n",
       "      <td>0</td>\n",
       "    </tr>\n",
       "    <tr>\n",
       "      <th>109.200.239.148</th>\n",
       "      <td>0</td>\n",
       "    </tr>\n",
       "    <tr>\n",
       "      <th>109.206.161.3</th>\n",
       "      <td>0</td>\n",
       "    </tr>\n",
       "    <tr>\n",
       "      <th>109.206.162.162</th>\n",
       "      <td>0</td>\n",
       "    </tr>\n",
       "    <tr>\n",
       "      <th>109.234.156.34</th>\n",
       "      <td>0</td>\n",
       "    </tr>\n",
       "  </tbody>\n",
       "</table>\n",
       "</div>"
      ],
      "text/plain": [
       "                cluster\n",
       "ip                     \n",
       "101.0.32.121          0\n",
       "109.200.239.148       0\n",
       "109.206.161.3         0\n",
       "109.206.162.162       0\n",
       "109.234.156.34        0"
      ]
     },
     "execution_count": 224,
     "metadata": {},
     "output_type": "execute_result"
    }
   ],
   "source": [
    "df.head()"
   ]
  },
  {
   "cell_type": "code",
   "execution_count": 225,
   "metadata": {
    "collapsed": true
   },
   "outputs": [],
   "source": [
    "#Create feature vector corrosponding to each cluster. \n",
    "#This feature vector would be used to define boundray using One Class SVM for the cluster.\n",
    "def get_clusters_feature_vectors(cluster_path):\n",
    "    cluster_dict = dict()\n",
    "    filenames = sorted(glob.glob(os.path.join(cluster_path,'*')),  key=os.path.getmtime)\n",
    "    first = True\n",
    "    for filename in filenames:\n",
    "        if first:\n",
    "            df = pd.read_csv(filename, index_col=0)\n",
    "            first = False\n",
    "        else:\n",
    "            temp_df = pd.read_csv(filename, index_col=0)\n",
    "            df = df.append(temp_df) \n",
    "    df = df.reset_index().set_index(['cluster','ip'])\n",
    "    clusters = df.index.get_level_values(0).unique()\n",
    "    for c in clusters:\n",
    "        cluster_dict[c] = df.loc[c].iloc[:,:-1].values\n",
    "    return cluster_dict"
   ]
  },
  {
   "cell_type": "code",
   "execution_count": 236,
   "metadata": {
    "collapsed": true
   },
   "outputs": [],
   "source": [
    "train_tag_filename = 'ip_cluster_tag_train'\n",
    "train_tag_file = os.path.join(base_path,train_tag_filename)\n",
    "train_df = df.from_csv(train_tag_file)\n",
    "test_tag_filename = 'ip_cluster_tag_test'\n",
    "test_tag_file = os.path.join(base_path,test_tag_filename)\n",
    "test_df = df.from_csv(test_tag_file)"
   ]
  },
  {
   "cell_type": "code",
   "execution_count": 257,
   "metadata": {
    "collapsed": false
   },
   "outputs": [
    {
     "name": "stdout",
     "output_type": "stream",
     "text": [
      "<class 'pandas.core.frame.DataFrame'>\n",
      "Index: 3086 entries, 1.22.16.143 to 95.64.43.62\n",
      "Data columns (total 1 columns):\n",
      "cluster    3086 non-null int64\n",
      "dtypes: int64(1)\n",
      "memory usage: 128.2+ KB\n"
     ]
    }
   ],
   "source": [
    "train_df.info()"
   ]
  },
  {
   "cell_type": "code",
   "execution_count": 238,
   "metadata": {
    "collapsed": false
   },
   "outputs": [],
   "source": [
    "result = pd.merge(train_df, test_df, left_index=True, right_index=True, how='right')"
   ]
  },
  {
   "cell_type": "code",
   "execution_count": 268,
   "metadata": {
    "collapsed": false
   },
   "outputs": [],
   "source": [
    "r = result.dropna()\n",
    "r = r.astype(int)"
   ]
  },
  {
   "cell_type": "code",
   "execution_count": 270,
   "metadata": {
    "collapsed": false
   },
   "outputs": [
    {
     "data": {
      "text/html": [
       "<div>\n",
       "<style>\n",
       "    .dataframe thead tr:only-child th {\n",
       "        text-align: right;\n",
       "    }\n",
       "\n",
       "    .dataframe thead th {\n",
       "        text-align: left;\n",
       "    }\n",
       "\n",
       "    .dataframe tbody tr th {\n",
       "        vertical-align: top;\n",
       "    }\n",
       "</style>\n",
       "<table border=\"1\" class=\"dataframe\">\n",
       "  <thead>\n",
       "    <tr style=\"text-align: right;\">\n",
       "      <th></th>\n",
       "      <th>cluster_x</th>\n",
       "      <th>cluster_y</th>\n",
       "    </tr>\n",
       "    <tr>\n",
       "      <th>ip</th>\n",
       "      <th></th>\n",
       "      <th></th>\n",
       "    </tr>\n",
       "  </thead>\n",
       "  <tbody>\n",
       "    <tr>\n",
       "      <th>109.200.239.148</th>\n",
       "      <td>0</td>\n",
       "      <td>0</td>\n",
       "    </tr>\n",
       "    <tr>\n",
       "      <th>109.206.161.3</th>\n",
       "      <td>0</td>\n",
       "      <td>0</td>\n",
       "    </tr>\n",
       "    <tr>\n",
       "      <th>109.206.162.162</th>\n",
       "      <td>0</td>\n",
       "      <td>0</td>\n",
       "    </tr>\n",
       "    <tr>\n",
       "      <th>109.234.156.34</th>\n",
       "      <td>0</td>\n",
       "      <td>0</td>\n",
       "    </tr>\n",
       "    <tr>\n",
       "      <th>109.235.49.72</th>\n",
       "      <td>0</td>\n",
       "      <td>0</td>\n",
       "    </tr>\n",
       "  </tbody>\n",
       "</table>\n",
       "</div>"
      ],
      "text/plain": [
       "                 cluster_x  cluster_y\n",
       "ip                                   \n",
       "109.200.239.148          0          0\n",
       "109.206.161.3            0          0\n",
       "109.206.162.162          0          0\n",
       "109.234.156.34           0          0\n",
       "109.235.49.72            0          0"
      ]
     },
     "execution_count": 270,
     "metadata": {},
     "output_type": "execute_result"
    }
   ],
   "source": [
    "r.head()"
   ]
  },
  {
   "cell_type": "code",
   "execution_count": 279,
   "metadata": {
    "collapsed": false
   },
   "outputs": [],
   "source": [
    "#r.iloc[:,0].tolist()"
   ]
  },
  {
   "cell_type": "code",
   "execution_count": 280,
   "metadata": {
    "collapsed": true
   },
   "outputs": [],
   "source": [
    "actual_clusters = r.iloc[:,0].tolist()\n",
    "predicted_clusters = r.iloc[:,1].tolist()"
   ]
  },
  {
   "cell_type": "code",
   "execution_count": 282,
   "metadata": {
    "collapsed": true
   },
   "outputs": [],
   "source": [
    "import numpy as np\n",
    "from scipy.misc import comb\n",
    "\n",
    "def rand_index_score(actual_clusters, predicted_clusters):\n",
    "    tp_plus_fp = comb(np.bincount(actual_clusters), 2).sum()\n",
    "    tp_plus_fn = comb(np.bincount(predicted_clusters), 2).sum()\n",
    "    A = np.c_[(actual_clusters, predicted_clusters)]\n",
    "    tp = sum(comb(np.bincount(A[A[:, 0] == i, 1]), 2).sum()\n",
    "             for i in set(actual_clusters))\n",
    "    fp = tp_plus_fp - tp\n",
    "    fn = tp_plus_fn - tp\n",
    "    tn = comb(len(A), 2) - tp - fp - fn\n",
    "    ri =  (tp + tn) / (tp + fp + fn + tn)\n",
    "#     precision = tp / tp_plus_fp\n",
    "#     recall = tp / tp_plus_fn\n",
    "    print(ri, precision, recall)\n",
    "    return ri, precision, recall"
   ]
  },
  {
   "cell_type": "code",
   "execution_count": 283,
   "metadata": {
    "collapsed": false
   },
   "outputs": [
    {
     "name": "stdout",
     "output_type": "stream",
     "text": [
      "0.994729971104 0.996023887487 0.998664054504\n"
     ]
    },
    {
     "data": {
      "text/plain": [
       "(0.99472997110442285, 0.99602388748741644, 0.99866405450410467)"
      ]
     },
     "execution_count": 283,
     "metadata": {},
     "output_type": "execute_result"
    }
   ],
   "source": [
    "rand_index_score(actual_clusters, predicted_clusters)"
   ]
  },
  {
   "cell_type": "code",
   "execution_count": 55,
   "metadata": {
    "collapsed": true
   },
   "outputs": [],
   "source": [
    "def plot_outlier_detecton(X_train, clf, title):\n",
    "    \n",
    "    xx, yy = np.meshgrid(np.linspace(-5, 5, 500), np.linspace(-5, 5, 500))\n",
    "    \n",
    "    # plot the levels lines and the points\n",
    "    Z = clf.decision_function(np.c_[xx.ravel(), yy.ravel()])\n",
    "    Z = Z.reshape(xx.shape)\n",
    "    \n",
    "    plt.title(\"Outlier Detection:\" + str(title))\n",
    "    plt.contourf(xx, yy, Z, levels=np.linspace(Z.min(), 0, 7), cmap=plt.cm.PuBu)\n",
    "    a = plt.contour(xx, yy, Z, levels=[0], linewidths=2, colors='darkred')\n",
    "    #plt.contourf(xx, yy, Z, levels=[0, Z.max()], colors='palevioletred')\n",
    "    \n",
    "    s = 40\n",
    "    b1 = plt.scatter(X_train[:, 0], X_train[:, 1], c='white', s=s, edgecolors='k')\n",
    "    plt.axis('tight')\n",
    "    plt.xlim((-5, 5))\n",
    "    plt.ylim((-5, 5))\n",
    "    plt.legend([a.collections[0], b1],\n",
    "           [\"learned frontier\", \"training observations\"],\n",
    "           loc=\"upper left\")\n",
    "    plt.show()"
   ]
  },
  {
   "cell_type": "code",
   "execution_count": 56,
   "metadata": {
    "collapsed": true
   },
   "outputs": [],
   "source": [
    "#SKlearn SVM\n",
    "from sklearn import svm\n",
    "from sklearn.neighbors import LocalOutlierFactor\n",
    "def one_class_svm(feature_vector, cluster):\n",
    "    X_train = feature_vector\n",
    "    #Get scaler\n",
    "    scaler = preprocessing.StandardScaler().fit(X_train)\n",
    "    #Transform Traning data\n",
    "    X_trans = scaler.transform(X_train)\n",
    "    # fit the model\n",
    "    clf = svm.OneClassSVM(nu=0.01, kernel=\"rbf\", gamma=0.1)\n",
    "    clf.fit(X_trans)\n",
    "    clf.name = 'svm'\n",
    "    #Plot the graph\n",
    "    title = ' Cluster '+ str(cluster)\n",
    "    plot_outlier_detecton(X_trans, clf, title)\n",
    "    return clf, scaler"
   ]
  },
  {
   "cell_type": "code",
   "execution_count": 57,
   "metadata": {
    "collapsed": false
   },
   "outputs": [
    {
     "name": "stderr",
     "output_type": "stream",
     "text": [
      "/home/arpit/anaconda3/envs/py36/lib/python3.6/site-packages/sklearn/utils/validation.py:475: DataConversionWarning: Data with input dtype int64 was converted to float64 by StandardScaler.\n",
      "  warnings.warn(msg, DataConversionWarning)\n"
     ]
    },
    {
     "data": {
      "image/png": "[encoded data removed]",
      "text/plain": [
       "<matplotlib.figure.Figure at 0x7fabc1064080>"
      ]
     },
     "metadata": {},
     "output_type": "display_data"
    },
    {
     "data": {
      "image/png": "[encoded data removed]",
      "text/plain": [
       "<matplotlib.figure.Figure at 0x7fabc11e5da0>"
      ]
     },
     "metadata": {},
     "output_type": "display_data"
    },
    {
     "data": {
      "image/png": "[encoded data removed]",
      "text/plain": [
       "<matplotlib.figure.Figure at 0x7fabc0cbf908>"
      ]
     },
     "metadata": {},
     "output_type": "display_data"
    },
    {
     "data": {
      "image/png": "[encoded data removed]",
      "text/plain": [
       "<matplotlib.figure.Figure at 0x7fabc115ddd8>"
      ]
     },
     "metadata": {},
     "output_type": "display_data"
    }
   ],
   "source": [
    "cluster_feature_dict = get_clusters_feature_vectors(cluster_path)\n",
    "clf_dict = dict()\n",
    "scaler_dict = dict()\n",
    "for cluster, df in cluster_feature_dict.items():\n",
    "    clf_dict[cluster], scaler_dict[cluster] = one_class_svm(df, cluster)"
   ]
  },
  {
   "cell_type": "code",
   "execution_count": 58,
   "metadata": {
    "collapsed": false
   },
   "outputs": [
    {
     "data": {
      "text/plain": [
       "array([[ 2,  0],\n",
       "       [ 2,  0],\n",
       "       [ 6,  0],\n",
       "       ..., \n",
       "       [18,  0],\n",
       "       [ 2,  0],\n",
       "       [30,  0]])"
      ]
     },
     "execution_count": 58,
     "metadata": {},
     "output_type": "execute_result"
    }
   ],
   "source": [
    "cluster_feature_dict[0]"
   ]
  },
  {
   "cell_type": "code",
   "execution_count": 112,
   "metadata": {
    "collapsed": false
   },
   "outputs": [
    {
     "data": {
      "text/plain": [
       "array([1])"
      ]
     },
     "execution_count": 112,
     "metadata": {},
     "output_type": "execute_result"
    }
   ],
   "source": [
    "#Predict for the give destination if it is normal or not\n",
    "X_test = [[658,0]]#[[1491,18]]\n",
    "X_test_tran = scaler_dict[0].transform(X_test)\n",
    "clf_dict[0].predict(X_test_tran)"
   ]
  },
  {
   "cell_type": "code",
   "execution_count": 113,
   "metadata": {
    "collapsed": false
   },
   "outputs": [
    {
     "name": "stdout",
     "output_type": "stream",
     "text": [
      "svm\n",
      "0.731601893977 -7.32636224249\n"
     ]
    },
    {
     "data": {
      "image/png": "[encoded data removed]",
      "text/plain": [
       "<matplotlib.figure.Figure at 0x7f7f897e8c88>"
      ]
     },
     "metadata": {},
     "output_type": "display_data"
    }
   ],
   "source": [
    "plot_outlier_detecton(X_test_tran, clf_dict[0])"
   ]
  },
  {
   "cell_type": "code",
   "execution_count": null,
   "metadata": {
    "collapsed": true
   },
   "outputs": [],
   "source": []
  }
 ],
 "metadata": {
  "anaconda-cloud": {},
  "kernelspec": {
   "display_name": "Python [py36]",
   "language": "python",
   "name": "Python [py36]"
  },
  "language_info": {
   "codemirror_mode": {
    "name": "ipython",
    "version": 3
   },
   "file_extension": ".py",
   "mimetype": "text/x-python",
   "name": "python",
   "nbconvert_exporter": "python",
   "pygments_lexer": "ipython3",
   "version": "3.6.3"
  }
 },
 "nbformat": 4,
 "nbformat_minor": 2
}
