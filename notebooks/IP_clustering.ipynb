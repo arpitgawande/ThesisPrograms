{
 "cells": [
  {
   "cell_type": "code",
   "execution_count": 1,
   "metadata": {
    "collapsed": true
   },
   "outputs": [],
   "source": [
    "%matplotlib inline\n",
    "# Common Imports\n",
    "import numpy as np\n",
    "#Pandas for creating dataframes\n",
    "import pandas as pd\n",
    "#Sklearn\n",
    "from sklearn import preprocessing\n",
    "#K-means clustering algo\n",
    "from sklearn.cluster import KMeans\n",
    "#OS moduled for file oprations\n",
    "import os\n",
    "#CSV module\n",
    "import csv\n",
    "#Plotting\n",
    "import matplotlib.pyplot as plt\n",
    "import shutil\n",
    "import glob"
   ]
  },
  {
   "cell_type": "code",
   "execution_count": 2,
   "metadata": {
    "collapsed": true
   },
   "outputs": [],
   "source": [
    "#Base Folder Paths\n",
    "base_folder_name = 'converted'\n",
    "test_folder_name = 'test2'\n",
    "base_path = os.path.join(base_folder_name, test_folder_name)\n",
    "#Normal Sample and cluster paths\n",
    "sample_dir_name = 'samp'\n",
    "sample_path = os.path.join(base_path, sample_dir_name)\n",
    "#If sample folder exist\n",
    "if os.path.isdir(sample_path):\n",
    "    #Test and Train data Folders\n",
    "    sample_train_path = os.path.join(base_path, sample_dir_name+'_train')\n",
    "    os.makedirs(sample_train_path, exist_ok=True)\n",
    "    sample_test_path = os.path.join(base_path, sample_dir_name+'_test')\n",
    "    os.makedirs(sample_test_path, exist_ok=True)\n",
    "    #Clustering folders\n",
    "    cluster_train_path = os.path.join(sample_train_path, 'cluster')\n",
    "    os.makedirs(cluster_train_path, exist_ok=True)\n",
    "    cluster_test_path = os.path.join(sample_test_path, 'cluster')\n",
    "    os.makedirs(cluster_test_path, exist_ok=True)\n",
    "#Defining features\n",
    "features = [1, 6, 17] #(ICMP:1, TCP:6, UDP:17)    "
   ]
  },
  {
   "cell_type": "code",
   "execution_count": 3,
   "metadata": {
    "collapsed": false
   },
   "outputs": [],
   "source": [
    "def filter_ip(df, ip_addr):\n",
    "    with open(os.path.join(base_path,\"filtered_ip_feture_vector\"), \"a+\") as f:\n",
    "        df.loc[ip_addr].to_csv(f, header=False)\n",
    "    df = df.drop([ip_addr])\n",
    "    return df    "
   ]
  },
  {
   "cell_type": "code",
   "execution_count": 4,
   "metadata": {
    "collapsed": false
   },
   "outputs": [],
   "source": [
    "def get_feature_dataframe(sample_file, features):\n",
    "        df = pd.read_csv(sample_file, index_col=0)\n",
    "        #Filter Columns\n",
    "        df = df[['ip.dst', 'ip.proto', 'sniff_timestamp', 'sample']]\n",
    "        #Remove null destinations\n",
    "        df = df[df['ip.dst'].notnull()]\n",
    "        #Rename Columns\n",
    "        df.columns = ['ip', 'protocol', 'time_stamp', 'sample']\n",
    "        #Get count for each ip\n",
    "        df = df.groupby(['ip', 'protocol']).size().unstack().fillna(0).astype(int)\n",
    "        #Drop row for given IP\n",
    "        #df = filter_ip(df, '147.32.84.165')        \n",
    "        if(set(df.columns) != set(features)):\n",
    "            non_columns = set(features) - set(df.columns)\n",
    "            for c in non_columns:\n",
    "                df.insert(loc=features.index(c), column=c, value=0)\n",
    "        #Select only required protocols which would be used as features\n",
    "        df = df[features]\n",
    "        return df"
   ]
  },
  {
   "cell_type": "code",
   "execution_count": 5,
   "metadata": {
    "collapsed": false
   },
   "outputs": [],
   "source": [
    "filenames = sorted(glob.glob(os.path.join(sample_path,'*')),  key=os.path.getmtime)\n",
    "df = get_feature_dataframe(filenames[0], features)"
   ]
  },
  {
   "cell_type": "code",
   "execution_count": 6,
   "metadata": {
    "collapsed": false
   },
   "outputs": [
    {
     "data": {
      "text/html": [
       "<div>\n",
       "<style>\n",
       "    .dataframe thead tr:only-child th {\n",
       "        text-align: right;\n",
       "    }\n",
       "\n",
       "    .dataframe thead th {\n",
       "        text-align: left;\n",
       "    }\n",
       "\n",
       "    .dataframe tbody tr th {\n",
       "        vertical-align: top;\n",
       "    }\n",
       "</style>\n",
       "<table border=\"1\" class=\"dataframe\">\n",
       "  <thead>\n",
       "    <tr style=\"text-align: right;\">\n",
       "      <th>protocol</th>\n",
       "      <th>1</th>\n",
       "      <th>6</th>\n",
       "      <th>17</th>\n",
       "    </tr>\n",
       "    <tr>\n",
       "      <th>ip</th>\n",
       "      <th></th>\n",
       "      <th></th>\n",
       "      <th></th>\n",
       "    </tr>\n",
       "  </thead>\n",
       "  <tbody>\n",
       "    <tr>\n",
       "      <th>104.107.0.221</th>\n",
       "      <td>0</td>\n",
       "      <td>21</td>\n",
       "      <td>0</td>\n",
       "    </tr>\n",
       "    <tr>\n",
       "      <th>104.107.1.225</th>\n",
       "      <td>0</td>\n",
       "      <td>340</td>\n",
       "      <td>0</td>\n",
       "    </tr>\n",
       "    <tr>\n",
       "      <th>104.107.30.247</th>\n",
       "      <td>0</td>\n",
       "      <td>59</td>\n",
       "      <td>0</td>\n",
       "    </tr>\n",
       "    <tr>\n",
       "      <th>104.107.6.192</th>\n",
       "      <td>0</td>\n",
       "      <td>321</td>\n",
       "      <td>0</td>\n",
       "    </tr>\n",
       "    <tr>\n",
       "      <th>104.107.6.212</th>\n",
       "      <td>0</td>\n",
       "      <td>55</td>\n",
       "      <td>0</td>\n",
       "    </tr>\n",
       "  </tbody>\n",
       "</table>\n",
       "</div>"
      ],
      "text/plain": [
       "protocol        1    6   17\n",
       "ip                         \n",
       "104.107.0.221    0   21   0\n",
       "104.107.1.225    0  340   0\n",
       "104.107.30.247   0   59   0\n",
       "104.107.6.192    0  321   0\n",
       "104.107.6.212    0   55   0"
      ]
     },
     "execution_count": 6,
     "metadata": {},
     "output_type": "execute_result"
    }
   ],
   "source": [
    "df.head()"
   ]
  },
  {
   "cell_type": "code",
   "execution_count": 7,
   "metadata": {
    "collapsed": true
   },
   "outputs": [],
   "source": [
    "#Merge sample files to create bigger sameple\n",
    "def merge_files(files, merge_count, features):\n",
    "    if len(files) < merge_count:\n",
    "        print('Too few file to merge')\n",
    "        return\n",
    "    dfs = []\n",
    "    count = 0\n",
    "    for file in files:\n",
    "        if count == 0:\n",
    "            df = get_feature_dataframe(file, features)\n",
    "            count += 1\n",
    "        else:\n",
    "            temp_df = get_feature_dataframe(file, features)\n",
    "            df = df.append(temp_df)\n",
    "            count += 1\n",
    "        if count == merge_count:\n",
    "            df = df.groupby(df.index).sum()\n",
    "            dfs.append(df)\n",
    "            count = 0\n",
    "    return dfs"
   ]
  },
  {
   "cell_type": "code",
   "execution_count": 8,
   "metadata": {
    "collapsed": false
   },
   "outputs": [],
   "source": [
    "def create_train_test(sample_path, features):\n",
    "    train_dfs = []; test_dfs = []\n",
    "    filenames = sorted(glob.glob(os.path.join(sample_path,'*')),  key=os.path.getmtime)\n",
    "    file_count = len(filenames)\n",
    "    #Split train and test Train size 80% of data and 20% (1/5 th) is test\n",
    "    reminder = file_count%5\n",
    "    #Number of files to be combined to form one train/test data\n",
    "    merge_count = 1 #int((file_count - reminder) / 5)\n",
    "    \n",
    "#     train_files = filenames[:merge_count*4]\n",
    "#     test_files = filenames[merge_count*4:]\n",
    "\n",
    "    train_files = filenames[:file_count-1]\n",
    "    test_files = filenames[file_count-1:]\n",
    "    \n",
    "    train_dfs = merge_files(train_files, merge_count, features)\n",
    "    test_dfs = merge_files(test_files, merge_count, features)\n",
    "    return train_dfs, test_dfs, merge_count"
   ]
  },
  {
   "cell_type": "code",
   "execution_count": 9,
   "metadata": {
    "collapsed": false
   },
   "outputs": [],
   "source": [
    "train_dfs, test_dfs, merge_count = create_train_test(sample_path, features)"
   ]
  },
  {
   "cell_type": "code",
   "execution_count": 10,
   "metadata": {
    "collapsed": false
   },
   "outputs": [],
   "source": [
    "np.savetxt(os.path.join(base_path, 'merge_count'), np.asarray(merge_count).reshape(1,), fmt='%d')"
   ]
  },
  {
   "cell_type": "code",
   "execution_count": 11,
   "metadata": {
    "collapsed": false
   },
   "outputs": [],
   "source": [
    "#Write train and test data to file\n",
    "train_files = []\n",
    "for i, df in enumerate(train_dfs, 1):\n",
    "    train_file = os.path.join(sample_train_path,str(i))\n",
    "    df.to_csv(train_file)\n",
    "    train_files.append(train_file)\n",
    "test_files = []    \n",
    "for i, df in enumerate(test_dfs, 1):\n",
    "    test_file = os.path.join(sample_test_path,str(i))\n",
    "    df.to_csv(test_file)\n",
    "    test_files.append(test_file)"
   ]
  },
  {
   "cell_type": "code",
   "execution_count": 12,
   "metadata": {
    "collapsed": true
   },
   "outputs": [],
   "source": [
    "from sklearn.cluster import KMeans\n",
    "#Find optimal number of clusters for k-means clustering using elbow method.\n",
    "def elbow_method(X_trans):\n",
    "    elbow_count = 0\n",
    "    range_val = 10\n",
    "    nc = range(1, range_val)\n",
    "    kmeans = [KMeans(n_clusters=i) for i in nc]\n",
    "    score = [kmeans[i].fit(X_trans).score(X_trans) for i in range(len(kmeans))]\n",
    "    total_diff = abs(score[0] - score[len(score) -1])\n",
    "    for i in range(range_val - 2):\n",
    "        percent_diff = abs(score[i] - score[i+1])/total_diff\n",
    "        if percent_diff < 0.01:\n",
    "            opt_clust_count = i\n",
    "            break\n",
    "#     plt.plot(nc,score)\n",
    "#     plt.xlabel('Number of Clusters')\n",
    "#     plt.ylabel('Score')\n",
    "#     plt.title('Elbow Curve')\n",
    "#     plt.show()\n",
    "    return opt_clust_count"
   ]
  },
  {
   "cell_type": "code",
   "execution_count": 13,
   "metadata": {
    "collapsed": false
   },
   "outputs": [],
   "source": [
    "#Apply elbow method on all the samples and get their mean\n",
    "def get_optimal_cluster_count(df_list):\n",
    "    elbow_vals = []\n",
    "    for df in df_list:\n",
    "        X = df.values\n",
    "        #Create scaling\n",
    "        scaler = preprocessing.StandardScaler().fit(X)\n",
    "        #Transform Traning data\n",
    "        X_trans = scaler.transform(X)\n",
    "        elbow = elbow_method(X_trans)\n",
    "        elbow_vals.append(elbow)\n",
    "    return int(np.floor(np.mean(elbow_vals)))"
   ]
  },
  {
   "cell_type": "code",
   "execution_count": 14,
   "metadata": {
    "collapsed": false
   },
   "outputs": [
    {
     "name": "stderr",
     "output_type": "stream",
     "text": [
      "/home/arpit/anaconda3/envs/py36/lib/python3.6/site-packages/sklearn/utils/validation.py:475: DataConversionWarning: Data with input dtype int64 was converted to float64 by StandardScaler.\n",
      "  warnings.warn(msg, DataConversionWarning)\n"
     ]
    }
   ],
   "source": [
    "cluster_count = get_optimal_cluster_count(train_dfs)"
   ]
  },
  {
   "cell_type": "code",
   "execution_count": 15,
   "metadata": {
    "collapsed": false
   },
   "outputs": [
    {
     "data": {
      "text/plain": [
       "4"
      ]
     },
     "execution_count": 15,
     "metadata": {},
     "output_type": "execute_result"
    }
   ],
   "source": [
    "cluster_count"
   ]
  },
  {
   "cell_type": "code",
   "execution_count": 16,
   "metadata": {
    "collapsed": true
   },
   "outputs": [],
   "source": [
    "# Calculating Eigenvectors and eigenvalues of Cov matirx\n",
    "def PCA_component_analysis(X_std):\n",
    "    mean_vec = np.mean(X_std, axis=0)\n",
    "    cov_mat = np.cov(X_std.T)\n",
    "    eig_vals, eig_vecs = np.linalg.eig(cov_mat)\n",
    "\n",
    "    # Create a list of (eigenvalue, eigenvector) tuples\n",
    "    eig_pairs = [ (np.abs(eig_vals[i]),eig_vecs[:,i]) for i in range(len(eig_vals))]\n",
    "\n",
    "    # # Sort from high to low\n",
    "    eig_pairs.sort(key = lambda x: x[0], reverse= True)\n",
    "\n",
    "    # Calculation of Explained Variance from the eigenvalues\n",
    "    tot = sum(eig_vals)\n",
    "    var_exp = [(i/tot)*100 for i in sorted(eig_vals, reverse=True)] # Individual explained variance\n",
    "    cum_var_exp = np.cumsum(var_exp) # Cumulative explained variance\n",
    "\n",
    "    # PLOT OUT THE EXPLAINED VARIANCES SUPERIMPOSED \n",
    "    plt.figure(figsize=(10, 5))\n",
    "    plt.bar(range(9), var_exp, alpha=0.3333, align='center', label='individual explained variance', color = 'g')\n",
    "    plt.step(range(9), cum_var_exp, where='mid',label='cumulative explained variance')\n",
    "    plt.ylabel('Explained variance ratio')\n",
    "    plt.xlabel('Principal components')\n",
    "    plt.legend(loc='best')\n",
    "    plt.show()"
   ]
  },
  {
   "cell_type": "code",
   "execution_count": 17,
   "metadata": {
    "collapsed": true
   },
   "outputs": [],
   "source": [
    "def get_kmeans_centroid(feature_df, cluster_count):\n",
    "    \"\"\" \n",
    "    X: feature vector \n",
    "    cluster_count: Number of clusters to be used for k-means\n",
    "    \"\"\"\n",
    "    df_centroid = {}\n",
    "    X = feature_df.values\n",
    "    #Create scaling\n",
    "    scaler = preprocessing.StandardScaler().fit(X)\n",
    "    #Transform Traning data\n",
    "    X_trans = scaler.transform(X)\n",
    "    #Data Fitting using K-means\n",
    "    kmeans = KMeans(n_clusters=cluster_count)\n",
    "    kmeans.fit(X_trans)\n",
    "    #Insert cluster center to its corrosposnding dataframe each dataframe.\n",
    "    #Dataframe 0 contain all the clusters centers associated with 0th cluster\n",
    "    first = True\n",
    "    for i in range(kmeans.cluster_centers_.shape[0]):\n",
    "        s = pd.Series(kmeans.cluster_centers_[i], index=feature_df.columns)\n",
    "        if(first):\n",
    "            df_centroid = pd.DataFrame(columns=feature_df.columns)\n",
    "            first = False\n",
    "        df_centroid = df_centroid.append(s,ignore_index=True)\n",
    "    return df_centroid"
   ]
  },
  {
   "cell_type": "code",
   "execution_count": 18,
   "metadata": {
    "collapsed": false
   },
   "outputs": [],
   "source": [
    "#Find the median of all the centroid which will be better estimate of the centroid for all future k-means clustering\n",
    "def kmeans_common_create_centroids(sample_frames, features, cluster_count, centroid_filename, features_filename):\n",
    "    \"\"\"\n",
    "    sample_frames: list of feature vector datafames\n",
    "    centroid_filename: File in which centroid has to be stored for future analyasis\n",
    "    features_filename: File in which feature list will be stored\n",
    "    \"\"\"\n",
    "    df_concat = pd.DataFrame(columns=features)\n",
    "    for df in sample_frames:\n",
    "        #Run kmeans and get centroid\n",
    "        df_centroid = get_kmeans_centroid(df, cluster_count)\n",
    "        #Create list of centroids\n",
    "        df_concat = df_concat.append(df_centroid)\n",
    "    centroids = []\n",
    "    #Find median for each centroid and store them in file\n",
    "    for c in range(cluster_count):\n",
    "        med = np.median(df_concat.loc[c], axis=0) # e.g. df_concat.loc[0] is df of clister 0\n",
    "        centroids.append(med)\n",
    "    #Save centroids and features in files for future use\n",
    "    np.savetxt(os.path.join(base_path, centroid_filename), np.asarray(centroids), delimiter=\",\")\n",
    "    np.savetxt(os.path.join(base_path, features_filename), np.asarray(list(features)), delimiter=\",\")\n",
    "    return centroids, features"
   ]
  },
  {
   "cell_type": "code",
   "execution_count": 19,
   "metadata": {
    "collapsed": false
   },
   "outputs": [
    {
     "name": "stderr",
     "output_type": "stream",
     "text": [
      "/home/arpit/anaconda3/envs/py36/lib/python3.6/site-packages/sklearn/utils/validation.py:475: DataConversionWarning: Data with input dtype int64 was converted to float64 by StandardScaler.\n",
      "  warnings.warn(msg, DataConversionWarning)\n"
     ]
    },
    {
     "data": {
      "text/plain": [
       "([array([-0.1518156 , -0.21155544, -0.14143366]),\n",
       "  array([-0.18670401,  5.48321934,  6.11658717]),\n",
       "  array([ 5.7509159 , -0.22231859, -0.06698206]),\n",
       "  array([-0.18701609,  2.34728862, -0.29295765])],\n",
       " [1, 6, 17])"
      ]
     },
     "execution_count": 19,
     "metadata": {},
     "output_type": "execute_result"
    }
   ],
   "source": [
    "#File to store centroids\n",
    "centroid_filename = 'centroids.csv'\n",
    "#File to store feature list\n",
    "features_filename = 'features.csv'\n",
    "#Call to find median of centroid\n",
    "kmeans_common_create_centroids(train_dfs, features, cluster_count, centroid_filename, features_filename)"
   ]
  },
  {
   "cell_type": "code",
   "execution_count": 20,
   "metadata": {
    "collapsed": true
   },
   "outputs": [],
   "source": [
    "#Get centroids and feature from the files\n",
    "def read_centroid_features(centroid_filename, features_filename):\n",
    "    centroids = np.genfromtxt(os.path.join(base_path,centroid_filename), delimiter=',')\n",
    "    features = np.genfromtxt(os.path.join(base_path,features_filename), delimiter=',')\n",
    "    features = list(features.astype('int64'))\n",
    "    return centroids, features        "
   ]
  },
  {
   "cell_type": "code",
   "execution_count": 97,
   "metadata": {
    "collapsed": true
   },
   "outputs": [],
   "source": [
    "def draw_clusters(X, pre_centroids, ax, title):\n",
    "    if X.shape[1] > 2:\n",
    "        reduced_X = PCA(n_components=2).fit_transform(X)\n",
    "        km = KMeans(n_clusters=pre_centroids.shape[0])\n",
    "        km.fit(reduced_X)\n",
    "    else:\n",
    "        reduced_X = X\n",
    "        km = KMeans(n_clusters=pre_centroids.shape[0], init=pre_centroids)\n",
    "        km.fit(reduced_X)\n",
    "   \n",
    "    # Step size of the mesh. Decrease to increase the quality of the VQ.\n",
    "    h = .01     # point in the mesh [x_min, x_max]x[y_min, y_max].\n",
    "\n",
    "    # Plot the decision boundary. For that, we will assign a color to each\n",
    "    x_min, x_max = reduced_X[:, 0].min() - 1, reduced_X[:, 0].max() + 1\n",
    "    y_min, y_max = reduced_X[:, 1].min() - 1, reduced_X[:, 1].max() + 1\n",
    "    xx, yy = np.meshgrid(np.arange(x_min, x_max, h), np.arange(y_min, y_max, h))\n",
    "\n",
    "    # Obtain labels for each point in mesh. Use last trained model.\n",
    "    Z = km.predict(np.c_[xx.ravel(), yy.ravel()])\n",
    "\n",
    "    # Put the result into a color plot\n",
    "    Z = Z.reshape(xx.shape)\n",
    "    plt.imshow(Z, interpolation='nearest',\n",
    "               extent=(xx.min(), xx.max(), yy.min(), yy.max()),\n",
    "               cmap=plt.cm.Paired,\n",
    "               aspect='auto', origin='lower')   \n",
    "    #Plot the data points (PCA reduced components)\n",
    "    centroids = km.cluster_centers_\n",
    "    ax.plot(reduced_X[:,0],reduced_X[:,1],  'k.', markersize=3)\n",
    "    # Plot the centroids as a white X\n",
    "    ax.scatter(centroids[:, 0], centroids[:, 1], marker='x', s=169, linewidths=3, color='w', zorder=10)\n",
    "    ax.set_title(title)\n",
    "    ax.set_xlim(x_min, x_max)\n",
    "    ax.set_ylim(y_min, y_max)\n",
    "    ax.set_xticks(())\n",
    "    ax.set_yticks(())"
   ]
  },
  {
   "cell_type": "code",
   "execution_count": 76,
   "metadata": {
    "collapsed": true
   },
   "outputs": [],
   "source": [
    "centroids, features = read_centroid_features(centroid_filename, features_filename)"
   ]
  },
  {
   "cell_type": "markdown",
   "metadata": {},
   "source": [
    "## Plot k-means clustering for samples"
   ]
  },
  {
   "cell_type": "markdown",
   "metadata": {},
   "source": [
    "### Print only 4 clustering plots"
   ]
  },
  {
   "cell_type": "code",
   "execution_count": 101,
   "metadata": {
    "collapsed": true
   },
   "outputs": [],
   "source": [
    "to_print_df = train_dfs[:4]"
   ]
  },
  {
   "cell_type": "code",
   "execution_count": 94,
   "metadata": {
    "collapsed": false
   },
   "outputs": [
    {
     "name": "stderr",
     "output_type": "stream",
     "text": [
      "/home/arpit/anaconda3/envs/py36/lib/python3.6/site-packages/sklearn/utils/validation.py:475: DataConversionWarning: Data with input dtype int64 was converted to float64 by StandardScaler.\n",
      "  warnings.warn(msg, DataConversionWarning)\n"
     ]
    },
    {
     "data": {
      "image/png": "[encoded data removed]",
      "text/plain": [
       "<matplotlib.figure.Figure at 0x7f80d3899c88>"
      ]
     },
     "metadata": {},
     "output_type": "display_data"
    }
   ],
   "source": [
    "fig = plt.figure(figsize=(10, 8), dpi=80, facecolor='w', edgecolor='k')\n",
    "for i, df in enumerate(to_print_df, 1):\n",
    "    X = df.values\n",
    "    #Create scaling\n",
    "    X_trans = preprocessing.StandardScaler().fit_transform(X)\n",
    "    #Use PCA component analysis for visuals\n",
    "    ax = fig.add_subplot(2, 2, i)\n",
    "    plt.suptitle('K-means clustering with (PCA-reduced data)', fontsize=16)\n",
    "    title = 'Sample:'+str(i)\n",
    "    draw_clusters1(X_trans, centroids, ax, title)\n",
    "plt.savefig('kemans-clusterng.png')    "
   ]
  },
  {
   "cell_type": "markdown",
   "metadata": {},
   "source": [
    "## Do k-means clustering and save clustered output in the files"
   ]
  },
  {
   "cell_type": "code",
   "execution_count": 98,
   "metadata": {
    "collapsed": true
   },
   "outputs": [],
   "source": [
    "def kmeans_clustering(feature_df, centroids):\n",
    "    X = feature_df.values\n",
    "    #Create scaling\n",
    "    scaler = preprocessing.StandardScaler().fit(X)\n",
    "    #Transform Traning data\n",
    "    X_trans = scaler.transform(X)\n",
    "    #k means clustering using provided centroids \n",
    "    kmeans = KMeans(n_clusters=centroids.shape[0], init=centroids)\n",
    "    clusters = kmeans.fit_predict(X_trans)\n",
    "    #Getting the labels/clusters and distances of each IP from centroid\n",
    "    cluster_df = pd.DataFrame({'cluster': kmeans.labels_})\n",
    "    #Attaching label and distance to existing df and write new dataframe to file\n",
    "    df = pd.concat([feature_df.reset_index(), cluster_df], axis=1).set_index('ip')\n",
    "    return df"
   ]
  },
  {
   "cell_type": "code",
   "execution_count": 99,
   "metadata": {
    "collapsed": false
   },
   "outputs": [
    {
     "name": "stderr",
     "output_type": "stream",
     "text": [
      "/home/arpit/anaconda3/envs/py36/lib/python3.6/site-packages/sklearn/utils/validation.py:475: DataConversionWarning: Data with input dtype int64 was converted to float64 by StandardScaler.\n",
      "  warnings.warn(msg, DataConversionWarning)\n",
      "/home/arpit/anaconda3/envs/py36/lib/python3.6/site-packages/sklearn/cluster/k_means_.py:896: RuntimeWarning: Explicit initial center position passed: performing only one init in k-means instead of n_init=10\n",
      "  return_n_iter=True)\n"
     ]
    }
   ],
   "source": [
    "#Cluster all the samples and store them\n",
    "centroids, features = read_centroid_features(centroid_filename, features_filename)\n",
    "for i, train_df in enumerate(train_dfs):\n",
    "    clustered_df = kmeans_clustering(train_df, centroids)\n",
    "    clustered_df.to_csv(os.path.join(cluster_train_path,str(i+1)))\n",
    "for i, test_df in enumerate(test_dfs): \n",
    "    clustered_df = kmeans_clustering(test_df, centroids)\n",
    "    clustered_df.to_csv(os.path.join(cluster_test_path,str(i+1)))    "
   ]
  },
  {
   "cell_type": "code",
   "execution_count": 100,
   "metadata": {
    "collapsed": false
   },
   "outputs": [
    {
     "name": "stdout",
     "output_type": "stream",
     "text": [
      "[[-0.1518156  -0.21155544 -0.14143366]\n",
      " [-0.18670401  5.48321934  6.11658717]\n",
      " [ 5.7509159  -0.22231859 -0.06698206]\n",
      " [-0.18701609  2.34728862 -0.29295765]]\n"
     ]
    }
   ],
   "source": [
    "print(centroids)"
   ]
  },
  {
   "cell_type": "code",
   "execution_count": null,
   "metadata": {
    "collapsed": true
   },
   "outputs": [],
   "source": [
    "def ge_clustering_results(cluster_path):\n",
    "    files = sorted(glob.glob(os.path.join(cluster_path,'*')),  key=os.path.getmtime)\n",
    "    first = True\n",
    "    for file in files:\n",
    "        if first:\n",
    "            df = pd.read_csv(file, index_col=0)\n",
    "            first = False\n",
    "        else:\n",
    "            temp_df = pd.read_csv(file, index_col=0)\n",
    "            df = df.append(temp_df) \n",
    "    df = df.reset_index().set_index(['ip'])\n",
    "    \n",
    "    #Merge the duplicates\n",
    "    new_columns =  ['cluster', 'packet_count']\n",
    "    features = list(df.columns[:-1])\n",
    "    cluster_column = list(df.columns[-1:])\n",
    "    #Average packet count across all the samples\n",
    "    packet_count = df[features].groupby('ip').mean().sum(axis=1).astype('int64')\n",
    "    #most occuring cluster across all samples\n",
    "    cluster = df[cluster_column].groupby('ip').median().astype('int64')\n",
    "    #Create new dataframe with cluster and packet count \n",
    "    new_df = pd.concat([cluster, packet_count], axis=1)\n",
    "    new_df.columns = new_columns\n",
    "    return new_df"
   ]
  },
  {
   "cell_type": "code",
   "execution_count": null,
   "metadata": {
    "collapsed": false
   },
   "outputs": [],
   "source": [
    "train_df = ge_clustering_results(cluster_train_path)\n",
    "test_df = ge_clustering_results(cluster_test_path)"
   ]
  },
  {
   "cell_type": "code",
   "execution_count": null,
   "metadata": {
    "collapsed": false
   },
   "outputs": [],
   "source": [
    "train_df.shape, test_df.shape"
   ]
  },
  {
   "cell_type": "code",
   "execution_count": null,
   "metadata": {
    "collapsed": true
   },
   "outputs": [],
   "source": [
    "#Save train result to file\n",
    "train_tag_filename = 'ip_cluster_tag_train'\n",
    "tag_file = os.path.join(base_path,train_tag_filename)\n",
    "train_df.to_csv(tag_file)\n",
    "#Save test result to file\n",
    "test_tag_filename = 'ip_cluster_tag_test'\n",
    "tag_file = os.path.join(base_path,test_tag_filename)\n",
    "test_df.to_csv(tag_file)"
   ]
  },
  {
   "cell_type": "code",
   "execution_count": null,
   "metadata": {
    "collapsed": false
   },
   "outputs": [],
   "source": [
    "train_tag_filename = 'ip_cluster_tag_train'\n",
    "train_tag_file = os.path.join(base_path,train_tag_filename)\n",
    "train_df = pd.read_csv(train_tag_file, index_col=0)\n",
    "test_tag_filename = 'ip_cluster_tag_test'\n",
    "test_tag_file = os.path.join(base_path,test_tag_filename)\n",
    "test_df = pd.read_csv(test_tag_file, index_col=0)"
   ]
  },
  {
   "cell_type": "code",
   "execution_count": null,
   "metadata": {
    "collapsed": true
   },
   "outputs": [],
   "source": [
    "import numpy as np\n",
    "from scipy.misc import comb\n",
    "\n",
    "def get_rand_index_score(train_df, test_df):\n",
    "    r = pd.merge(train_df, test_df, left_index=True, right_index=True, how='right')\n",
    "    r = r.dropna()\n",
    "    r = r.astype(int)\n",
    "    actual_clusters = r.iloc[:,0].tolist()\n",
    "    predicted_clusters = r.iloc[:,1].tolist()    \n",
    "    \n",
    "    tp_plus_fp = comb(np.bincount(actual_clusters), 2).sum()\n",
    "    tp_plus_fn = comb(np.bincount(predicted_clusters), 2).sum()\n",
    "    A = np.c_[(actual_clusters, predicted_clusters)]\n",
    "    tp = sum(comb(np.bincount(A[A[:, 0] == i, 1]), 2).sum()\n",
    "             for i in set(actual_clusters))\n",
    "    fp = tp_plus_fp - tp\n",
    "    fn = tp_plus_fn - tp\n",
    "    tn = comb(len(A), 2) - tp - fp - fn\n",
    "    ri =  (tp + tn) / (tp + fp + fn + tn)\n",
    "    return ri"
   ]
  },
  {
   "cell_type": "code",
   "execution_count": null,
   "metadata": {
    "collapsed": false
   },
   "outputs": [],
   "source": [
    "get_rand_index_score(train_df, test_df)"
   ]
  },
  {
   "cell_type": "markdown",
   "metadata": {},
   "source": [
    "## Anamoly Detection Using One Class SVM"
   ]
  },
  {
   "cell_type": "code",
   "execution_count": null,
   "metadata": {
    "collapsed": false
   },
   "outputs": [],
   "source": [
    "#Create feature vector corrosponding to each cluster. \n",
    "#This feature vector would be used to define boundray using One Class SVM for the cluster.\n",
    "def get_clusters_feature_vectors(cluster_path):\n",
    "    cluster_dict = dict()\n",
    "    filenames = sorted(glob.glob(os.path.join(cluster_path,'*')),  key=os.path.getmtime)\n",
    "    first = True\n",
    "    for filename in filenames:\n",
    "        if first:\n",
    "            df = pd.read_csv(filename, index_col=0)\n",
    "            first = False\n",
    "        else:\n",
    "            temp_df = pd.read_csv(filename, index_col=0)\n",
    "            df = df.append(temp_df) \n",
    "            #print(df)\n",
    "            break\n",
    "    df = df.reset_index().set_index(['cluster','ip'])\n",
    "    clusters = df.index.get_level_values(0).unique()\n",
    "    for c in clusters:\n",
    "        cluster_dict[c] = df.loc[c].values\n",
    "    return cluster_dict"
   ]
  },
  {
   "cell_type": "code",
   "execution_count": null,
   "metadata": {
    "collapsed": true
   },
   "outputs": [],
   "source": [
    "def plot_outlier_detecton(X, classifier, title):\n",
    "    if X.shape[1] > 2:\n",
    "        reduced_X = PCA(n_components=2).fit_transform(X)\n",
    "        clf = svm.OneClassSVM(nu=0.01, kernel=\"rbf\", gamma=0.1)\n",
    "        clf.fit(reduced_X)\n",
    "    else:\n",
    "        reduced_X = X\n",
    "        clf = classifier\n",
    "    \n",
    "    xx, yy = np.meshgrid(np.linspace(-5, 5, 500), np.linspace(-5, 5, 500))\n",
    "    \n",
    "    # plot the levels lines and the points\n",
    "    Z = clf.decision_function(np.c_[xx.ravel(), yy.ravel()])\n",
    "    Z = Z.reshape(xx.shape)\n",
    "    \n",
    "    plt.title(\"Outlier Detection:\" + str(title))\n",
    "    plt.contourf(xx, yy, Z, levels=np.linspace(Z.min(), 0, 7), cmap=plt.cm.PuBu)\n",
    "    a = plt.contour(xx, yy, Z, levels=[0], linewidths=2, colors='darkred')\n",
    "    #plt.contourf(xx, yy, Z, levels=[0, Z.max()], colors='palevioletred')\n",
    "    \n",
    "    s = 40\n",
    "    b1 = plt.scatter(reduced_X[:, 0], reduced_X[:, 1], c='white', s=s, edgecolors='k')\n",
    "    plt.axis('tight')\n",
    "    plt.xlim((-5, 5))\n",
    "    plt.ylim((-5, 5))\n",
    "    plt.legend([a.collections[0], b1],\n",
    "           [\"learned frontier\", \"training observations\"],\n",
    "           loc=\"upper left\")\n",
    "    plt.show()"
   ]
  },
  {
   "cell_type": "code",
   "execution_count": null,
   "metadata": {
    "collapsed": true
   },
   "outputs": [],
   "source": [
    "def plot_outlier_detecton(X, classifier, title):\n",
    "    if X.shape[1] > 2:\n",
    "        reduced_X = PCA(n_components=2).fit_transform(X)\n",
    "        clf = svm.OneClassSVM(nu=0.01, kernel=\"rbf\", gamma=0.1)\n",
    "        clf.fit(reduced_X)\n",
    "    else:\n",
    "        reduced_X = X\n",
    "        clf = classifier\n",
    "    \n",
    "    xx, yy = np.meshgrid(np.linspace(-5, 5, 500), np.linspace(-5, 5, 500))\n",
    "    \n",
    "    # plot the levels lines and the points\n",
    "    Z = clf.decision_function(np.c_[xx.ravel(), yy.ravel()])\n",
    "    Z = Z.reshape(xx.shape)\n",
    "    \n",
    "    plt.title(\"Outlier Detection:\" + str(title))\n",
    "    plt.contourf(xx, yy, Z, levels=np.linspace(Z.min(), 0, 7), cmap=plt.cm.PuBu)\n",
    "    a = plt.contour(xx, yy, Z, levels=[0], linewidths=2, colors='darkred')\n",
    "    #plt.contourf(xx, yy, Z, levels=[0, Z.max()], colors='palevioletred')\n",
    "    \n",
    "    s = 40\n",
    "    b1 = plt.scatter(reduced_X[:, 0], reduced_X[:, 1], c='white', s=s, edgecolors='k')\n",
    "    plt.axis('tight')\n",
    "    plt.xlim((-5, 5))\n",
    "    plt.ylim((-5, 5))\n",
    "    plt.legend([a.collections[0], b1],\n",
    "           [\"learned frontier\", \"training observations\"],\n",
    "           loc=\"upper left\")\n",
    "    plt.show()"
   ]
  },
  {
   "cell_type": "code",
   "execution_count": null,
   "metadata": {
    "collapsed": true
   },
   "outputs": [],
   "source": [
    "#SKlearn SVM\n",
    "from sklearn import svm\n",
    "from sklearn.neighbors import LocalOutlierFactor\n",
    "def one_class_svm(feature_vector, cluster):\n",
    "    X_train = feature_vector\n",
    "    #Get scaler\n",
    "    scaler = preprocessing.StandardScaler().fit(X_train)\n",
    "    #Transform Traning data\n",
    "    X_trans = scaler.transform(X_train)\n",
    "    # fit the model\n",
    "    clf = svm.OneClassSVM(nu=0.01, kernel=\"rbf\", gamma=0.1)\n",
    "    clf.fit(X_trans)\n",
    "    clf.name = 'svm'\n",
    "    #Plot the graph\n",
    "    title = ' Cluster '+ str(cluster)\n",
    "    plot_outlier_detecton(X_trans, clf, title)\n",
    "    return clf, scaler"
   ]
  },
  {
   "cell_type": "code",
   "execution_count": null,
   "metadata": {
    "collapsed": false
   },
   "outputs": [],
   "source": [
    "cluster_train_path"
   ]
  },
  {
   "cell_type": "code",
   "execution_count": null,
   "metadata": {
    "collapsed": false
   },
   "outputs": [],
   "source": [
    "cluster_feature_dict = get_clusters_feature_vectors(cluster_train_path)"
   ]
  },
  {
   "cell_type": "code",
   "execution_count": null,
   "metadata": {
    "collapsed": false
   },
   "outputs": [],
   "source": [
    "#cluster_feature_dict[3]"
   ]
  },
  {
   "cell_type": "code",
   "execution_count": null,
   "metadata": {
    "collapsed": false
   },
   "outputs": [],
   "source": [
    "clf_dict = dict()\n",
    "scaler_dict = dict()\n",
    "for cluster, df in cluster_feature_dict.items():\n",
    "    clf_dict[cluster], scaler_dict[cluster] = one_class_svm(df, cluster)"
   ]
  },
  {
   "cell_type": "code",
   "execution_count": null,
   "metadata": {
    "collapsed": false
   },
   "outputs": [],
   "source": [
    "#Predict for the give destination if it is normal or not\n",
    "X_test = [[0,658,0]]#[[1491,18]]\n",
    "X_test_tran = scaler_dict[0].transform(X_test)\n",
    "clf_dict[0].predict(X_test_tran)"
   ]
  },
  {
   "cell_type": "code",
   "execution_count": null,
   "metadata": {
    "collapsed": false
   },
   "outputs": [],
   "source": [
    "#plot_outlier_detecton(X_test_tran, clf_dict[0], 'test')"
   ]
  },
  {
   "cell_type": "markdown",
   "metadata": {},
   "source": [
    "## Clustering the data captures during attack"
   ]
  },
  {
   "cell_type": "code",
   "execution_count": null,
   "metadata": {
    "collapsed": true
   },
   "outputs": [],
   "source": [
    "attack_sample_dir_name = 'attack_samp'\n",
    "attack_sample_path = os.path.join(base_path, attack_sample_dir_name)\n",
    "attack_sample_train_path = os.path.join(base_path, attack_sample_dir_name+'_train')\n",
    "os.makedirs(attack_sample_train_path, exist_ok=True)\n",
    "attack_cluster_path = os.path.join(attack_sample_train_path, 'cluster')\n",
    "os.makedirs(attack_cluster_path, exist_ok=True)"
   ]
  },
  {
   "cell_type": "code",
   "execution_count": null,
   "metadata": {
    "collapsed": true
   },
   "outputs": [],
   "source": [
    "files = sorted(glob.glob(os.path.join(attack_sample_path,'*')),  key=os.path.getmtime)\n",
    "merge_count = np.genfromtxt(os.path.join(base_path,'merge_count'))"
   ]
  },
  {
   "cell_type": "code",
   "execution_count": null,
   "metadata": {
    "collapsed": false
   },
   "outputs": [],
   "source": [
    "files"
   ]
  },
  {
   "cell_type": "code",
   "execution_count": null,
   "metadata": {
    "collapsed": false
   },
   "outputs": [],
   "source": [
    "int(merge_count)"
   ]
  },
  {
   "cell_type": "code",
   "execution_count": null,
   "metadata": {
    "collapsed": true
   },
   "outputs": [],
   "source": [
    "centroids, features = read_centroid_features(centroid_filename, features_filename)"
   ]
  },
  {
   "cell_type": "code",
   "execution_count": null,
   "metadata": {
    "collapsed": false
   },
   "outputs": [],
   "source": [
    "attack_dfs = merge_files(files, merge_count, features)"
   ]
  },
  {
   "cell_type": "code",
   "execution_count": null,
   "metadata": {
    "collapsed": false
   },
   "outputs": [],
   "source": [
    "#Cluster all the samples and store them\n",
    "centroids, features = read_centroid_features(centroid_filename, features_filename)\n",
    "for i, attack_df in enumerate(attack_dfs):\n",
    "    clustered_df = kmeans_clustering(attack_df, centroids)\n",
    "    clustered_df.to_csv(os.path.join(attack_cluster_path,str(i+1)))"
   ]
  },
  {
   "cell_type": "code",
   "execution_count": null,
   "metadata": {
    "collapsed": true
   },
   "outputs": [],
   "source": [
    "files = sorted(glob.glob(os.path.join(attack_cluster_path,'*')),  key=os.path.getmtime)\n",
    "df = pd.read_csv(files[0], index_col=0)"
   ]
  },
  {
   "cell_type": "code",
   "execution_count": null,
   "metadata": {
    "collapsed": false
   },
   "outputs": [],
   "source": [
    "df.shape"
   ]
  },
  {
   "cell_type": "code",
   "execution_count": null,
   "metadata": {
    "collapsed": false
   },
   "outputs": [],
   "source": [
    "train_tag_filename = 'ip_cluster_tag_train'\n",
    "train_tag_file = os.path.join(base_path,train_tag_filename)\n",
    "train_df = pd.read_csv(train_tag_file, index_col=0)"
   ]
  },
  {
   "cell_type": "code",
   "execution_count": null,
   "metadata": {
    "collapsed": false
   },
   "outputs": [],
   "source": [
    "train_df.head()"
   ]
  },
  {
   "cell_type": "code",
   "execution_count": null,
   "metadata": {
    "collapsed": false
   },
   "outputs": [],
   "source": [
    "train_df.loc['192.168.0.7']"
   ]
  },
  {
   "cell_type": "code",
   "execution_count": null,
   "metadata": {
    "collapsed": false
   },
   "outputs": [],
   "source": [
    "bad_ip_df = pd.DataFrame(columns=['ip', 'packet_count', 'cluster'])\n",
    "for ip, row in df.iterrows():\n",
    "    feature_row = row[:-1]\n",
    "    cluster_value = row[-1]\n",
    "    #cluster test\n",
    "    if ip in train_df.index:\n",
    "        packet_count = feature_row.sum()\n",
    "        train_cluster = train_df.loc[ip]['cluster']\n",
    "        #Compare each ip data with the train cluster \n",
    "        if(cluster_value == train_cluster):\n",
    "            #SVM test: Check if its inside the boundry usinf one class svm\n",
    "            X_test_tran = scaler_dict[cluster_value].transform([feature_row.values])\n",
    "            prediction = clf_dict[cluster_value].predict(X_test_tran)\n",
    "            if prediction == - 1:\n",
    "                s = pd.Series([ip, packet_count, cluster_value], index=bad_ip_df.columns)\n",
    "                bad_ip_df = bad_ip_df.append(s, ignore_index=True)\n",
    "        else:\n",
    "            s = pd.Series([ip, packet_count, cluster_value], index=bad_ip_df.columns)\n",
    "            bad_ip_df = bad_ip_df.append(s, ignore_index=True)\n",
    "            \n",
    "bad_ip_df = bad_ip_df.set_index('ip')\n",
    "print(bad_ip_df)"
   ]
  },
  {
   "cell_type": "code",
   "execution_count": null,
   "metadata": {
    "collapsed": true
   },
   "outputs": [],
   "source": []
  }
 ],
 "metadata": {
  "anaconda-cloud": {},
  "kernelspec": {
   "display_name": "Python [py36]",
   "language": "python",
   "name": "Python [py36]"
  },
  "language_info": {
   "codemirror_mode": {
    "name": "ipython",
    "version": 3
   },
   "file_extension": ".py",
   "mimetype": "text/x-python",
   "name": "python",
   "nbconvert_exporter": "python",
   "pygments_lexer": "ipython3",
   "version": "3.6.3"
  }
 },
 "nbformat": 4,
 "nbformat_minor": 2
}
