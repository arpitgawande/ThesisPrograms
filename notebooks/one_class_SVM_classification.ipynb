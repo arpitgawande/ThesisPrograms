{
 "cells": [
  {
   "cell_type": "code",
   "execution_count": 1,
   "metadata": {
    "collapsed": true
   },
   "outputs": [],
   "source": [
    "# Common Imports\n",
    "#Pandas for creating dataframes\n",
    "import pandas as pd\n",
    "#Sklearn\n",
    "from sklearn import preprocessing\n",
    "#OS moduled for file oprations\n",
    "import os\n",
    "#CSV module\n",
    "import csv\n",
    "#SKlearn SVM\n",
    "from sklearn import svm"
   ]
  },
  {
   "cell_type": "code",
   "execution_count": 2,
   "metadata": {
    "collapsed": true
   },
   "outputs": [],
   "source": [
    "#Folder Base Path\n",
    "base_path = 'converted/test2/'"
   ]
  },
  {
   "cell_type": "code",
   "execution_count": 3,
   "metadata": {
    "collapsed": true
   },
   "outputs": [],
   "source": [
    "first = True\n",
    "\n",
    "ip_dict = dict()\n",
    "sample_path = base_path+'samples/'\n",
    "#Cluster Path\n",
    "#cluster_path = base_path+'attack_ip_cluster/2/'\n",
    "sample_count = 1;\n",
    "first = True;\n",
    "dfList = []\n",
    "for filename in os.listdir(sample_path):\n",
    "    tdf = pd.read_csv(sample_path+filename, index_col=0)\n",
    "    #Filter Columns\n",
    "    tdf = tdf[['ip.dst', 'ip.proto', 'sniff_timestamp', 'sample']]\n",
    "    #Remove null destinations\n",
    "    tdf = tdf[tdf['ip.dst'].notnull()]\n",
    "    #Rename Columns\n",
    "    tdf.columns = ['ip', 'proto', 'time_stamp', 'sample']\n",
    "    #Create data frame for each sample file contain IP address with packet counts\n",
    "    df = tdf.groupby(['ip', 'proto']).size().unstack().fillna(0).astype(int)\n",
    "    df['sample'] = filename\n",
    "    #Create list of eac dataframe\n",
    "    dfList.append(df)    "
   ]
  },
  {
   "cell_type": "code",
   "execution_count": 5,
   "metadata": {
    "collapsed": true
   },
   "outputs": [],
   "source": [
    "#cobine all dataframes and sort by IP address\n",
    "df1 = pd.concat(dfList).sort_index()\n",
    "#drop old index and create new multi-index with IP address and sample so that all the sample data for a given IP is cobined.\n",
    "df1 = df1.reset_index().set_index(['ip','sample'])"
   ]
  },
  {
   "cell_type": "code",
   "execution_count": 7,
   "metadata": {
    "collapsed": false
   },
   "outputs": [
    {
     "data": {
      "text/html": [
       "<div>\n",
       "<style>\n",
       "    .dataframe thead tr:only-child th {\n",
       "        text-align: right;\n",
       "    }\n",
       "\n",
       "    .dataframe thead th {\n",
       "        text-align: left;\n",
       "    }\n",
       "\n",
       "    .dataframe tbody tr th {\n",
       "        vertical-align: top;\n",
       "    }\n",
       "</style>\n",
       "<table border=\"1\" class=\"dataframe\">\n",
       "  <thead>\n",
       "    <tr style=\"text-align: right;\">\n",
       "      <th></th>\n",
       "      <th>proto</th>\n",
       "      <th>1</th>\n",
       "      <th>2</th>\n",
       "      <th>6</th>\n",
       "      <th>17</th>\n",
       "    </tr>\n",
       "    <tr>\n",
       "      <th>ip</th>\n",
       "      <th>sample</th>\n",
       "      <th></th>\n",
       "      <th></th>\n",
       "      <th></th>\n",
       "      <th></th>\n",
       "    </tr>\n",
       "  </thead>\n",
       "  <tbody>\n",
       "    <tr>\n",
       "      <th rowspan=\"5\" valign=\"top\">103.20.94.1</th>\n",
       "      <th>135</th>\n",
       "      <td>0</td>\n",
       "      <td>0</td>\n",
       "      <td>23</td>\n",
       "      <td>0</td>\n",
       "    </tr>\n",
       "    <tr>\n",
       "      <th>95</th>\n",
       "      <td>0</td>\n",
       "      <td>0</td>\n",
       "      <td>23</td>\n",
       "      <td>0</td>\n",
       "    </tr>\n",
       "    <tr>\n",
       "      <th>16</th>\n",
       "      <td>0</td>\n",
       "      <td>0</td>\n",
       "      <td>23</td>\n",
       "      <td>0</td>\n",
       "    </tr>\n",
       "    <tr>\n",
       "      <th>8</th>\n",
       "      <td>0</td>\n",
       "      <td>0</td>\n",
       "      <td>21</td>\n",
       "      <td>0</td>\n",
       "    </tr>\n",
       "    <tr>\n",
       "      <th>6</th>\n",
       "      <td>0</td>\n",
       "      <td>0</td>\n",
       "      <td>24</td>\n",
       "      <td>0</td>\n",
       "    </tr>\n",
       "  </tbody>\n",
       "</table>\n",
       "</div>"
      ],
      "text/plain": [
       "proto               1   2   6   17\n",
       "ip          sample                \n",
       "103.20.94.1 135      0   0  23   0\n",
       "            95       0   0  23   0\n",
       "            16       0   0  23   0\n",
       "            8        0   0  21   0\n",
       "            6        0   0  24   0"
      ]
     },
     "execution_count": 7,
     "metadata": {},
     "output_type": "execute_result"
    }
   ],
   "source": [
    "df1.head()"
   ]
  },
  {
   "cell_type": "code",
   "execution_count": 9,
   "metadata": {
    "collapsed": true
   },
   "outputs": [],
   "source": [
    "#Get list of all IP address\n",
    "indexValues = df1.index.get_level_values(0)"
   ]
  },
  {
   "cell_type": "code",
   "execution_count": 11,
   "metadata": {
    "collapsed": false
   },
   "outputs": [
    {
     "data": {
      "text/plain": [
       "Index(['103.20.94.1', '103.20.94.1', '103.20.94.1', '103.20.94.1',\n",
       "       '103.20.94.1', '103.20.94.1', '103.20.94.1', '103.20.94.1',\n",
       "       '103.20.94.1', '104.106.251.5',\n",
       "       ...\n",
       "       '93.184.215.201', '93.184.215.201', '93.184.215.201', '93.184.215.201',\n",
       "       '93.184.215.201', '93.184.215.201', '93.184.215.201', '93.184.215.201',\n",
       "       '93.184.215.201', '94.130.104.85'],\n",
       "      dtype='object', name='ip', length=5782)"
      ]
     },
     "execution_count": 11,
     "metadata": {},
     "output_type": "execute_result"
    }
   ],
   "source": [
    "indexValues"
   ]
  },
  {
   "cell_type": "code",
   "execution_count": 80,
   "metadata": {
    "collapsed": true
   },
   "outputs": [],
   "source": [
    "#Train SVM for each IP address data\n",
    "svm_dict = dict()\n",
    "for i in indexValues:\n",
    "    X_train = df1.loc[i].values\n",
    "    # fit the model\n",
    "    clf = svm.OneClassSVM(nu=0.1, kernel=\"rbf\", gamma=0.1)\n",
    "    clf.fit(X_train)\n",
    "    #Store trained SVM for each IP\n",
    "    svm_dict[i] = clf"
   ]
  },
  {
   "cell_type": "code",
   "execution_count": 90,
   "metadata": {
    "collapsed": false
   },
   "outputs": [
    {
     "data": {
      "text/plain": [
       "array([-1], dtype=int64)"
      ]
     },
     "execution_count": 90,
     "metadata": {},
     "output_type": "execute_result"
    }
   ],
   "source": [
    "#Predict for the give destination if it is normal or not\n",
    "svm_dict['192.168.0.7'].predict([[0,0,1,1]])"
   ]
  }
 ],
 "metadata": {
  "kernelspec": {
   "display_name": "Python [py36]",
   "language": "python",
   "name": "Python [py36]"
  },
  "language_info": {
   "codemirror_mode": {
    "name": "ipython",
    "version": 3
   },
   "file_extension": ".py",
   "mimetype": "text/x-python",
   "name": "python",
   "nbconvert_exporter": "python",
   "pygments_lexer": "ipython3",
   "version": "3.6.3"
  }
 },
 "nbformat": 4,
 "nbformat_minor": 2
}
